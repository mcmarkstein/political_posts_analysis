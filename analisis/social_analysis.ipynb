{
 "cells": [
  {
   "cell_type": "code",
   "execution_count": 152,
   "metadata": {
    "pycharm": {
     "name": "#%%\n"
    }
   },
   "outputs": [],
   "source": [
    "import pandas as pd\n",
    "import numpy as np\n",
    "from wordcloud import WordCloud\n",
    "import seaborn as sns\n",
    "import matplotlib.pyplot as plt\n",
    "from langdetect import detect"
   ]
  },
  {
   "cell_type": "markdown",
   "source": [
    "# <div align=\"center\"> Political social media posts"
   ],
   "metadata": {
    "collapsed": false,
    "pycharm": {
     "name": "#%% md\n"
    }
   }
  },
  {
   "cell_type": "markdown",
   "source": [
    "##### <div align=\"center\"> [Este dataset fue obtenido en la página Kaggle](https://www.kaggle.com/datasets/crowdflower/political-social-media-posts)"
   ],
   "metadata": {
    "collapsed": false,
    "pycharm": {
     "name": "#%% md\n"
    }
   }
  },
  {
   "cell_type": "markdown",
   "source": [
    "\n",
    "Consiste en 5000 publicaciones/posteos de las redes sociales (facebook y twitter) de políticos estadounidense (senadores y representantes del congreso). Los mensajes fueron clasificados según: audiencia (nacional o local), sesgo (neutral/bipartisan, o biased/partisan) y por el objetivo de los mismos (ataque, apoyo, personal, etc).\n",
    "\n",
    "El dataset original cuenta con estas columnas:\n",
    "1. `` _unit_id `` : un id único para cada mensaje\n",
    "2. ``golden``: siempre FALSE (falso) → La columna fue eliminada\n",
    "3. ``_unit_state``: siempre \"finalized\" (finalizado) → La columna fue eliminada\n",
    "4. ``_trusted_judgments``: el cantidad de personas que juzgaron el mensaje; un número entero entre 1 y 3\n",
    "5. ``_last_judgment_at``: cuando fue reoclectado el ulitmo \"juicio\"\n",
    "6. ``audience``: público al que fue dirigido; nacional o circunscripto\n",
    "7. ``audience:confidence``: una medida de confianza en el juicio de la audiencia; un número entre 0,5 y 1 → columna eliminada\n",
    "8. ``bias``: el sesgo que se presenta como neutral o partidario\n",
    "9. ``bias:confidence``: una medida de confianza en el juicio de sesgo; un valor entre 0,5 y 1 → columna eliminada\n",
    "10. ``message``: el objetivo del mensaje:\n",
    "    - attack: el mensaje ataca a otro político\n",
    "    - constituency: el mensaje habla de la circunscripción del político\n",
    "    - information: n mensaje informativo sobre las novedades del gobierno o de los Estados Unidos en general\n",
    "    - media: un mensaje sobre la interacción con los medios de comunicación\n",
    "    - Mobilization: mensaje destinado a movilizar a los partidarios.\n",
    "    - other: una categoría que engloba los mensajes que no encajan en las otras categorías.\n",
    "    - personal: un mensaje personal, que suele expresar simpatía, apoyo y/o condolencias, u otras opiniones personales\n",
    "    - policy: un mensaje sobre políticas\n",
    "    - support: un mensaje de apoyo político\n",
    "11. ``message:confidence``: una medida de confianza en el juicio del mensaje; un valor entre 0,5 y 1 → columna eliminada\n",
    "12. ``orig_golden``: siempre vacío; presumiblemente si alguna parte del mensaje estaba en el estándar de oro → columna eliminada\n",
    "13. ``audience_gold``: siempre vacío; presumiblemente si la respuesta de la audiencia estaba en el patrón oro → columna eliminada\n",
    "14. ``bias_gold``: siempre vacío; presumiblemente, si la respuesta de sesgo estaba en el patrón oro → columna eliminada\n",
    "15. ``bioid``: un id único para el político\n",
    "16. ``embed``: código HTML para incrustar este mensaje → columna eliminada\n",
    "17. ``id``: id único del mensaje DENTRO del sitio de medios sociales del que se extrajo\n",
    "18. ``label``: una frase de la forma \"De: nombre apellido (cargo del estado)\"\n",
    "19. ``message_gold``: siempre en blanco; presumiblemente si la respuesta del mensaje estaba en el estándar de oro → columna eliminada\n",
    "20. ``source``: donde se publicó el mensaje,\"facebook\" o \"twitter\"\n",
    "21. ``text``: el texto del mensaje\n",
    "\n",
    "Como fue indicado, varias columnas no fueron seleccionadas (eliminadas), ya que estaban relacionadas al proceso de construcción del dataset que no tiene relevancia ahora, siendo que no todas las filas están vacías o todas tienen el mismo valor."
   ],
   "metadata": {
    "collapsed": false,
    "pycharm": {
     "name": "#%% md\n"
    }
   }
  },
  {
   "cell_type": "markdown",
   "source": [
    "El objetivo es poder establecer las relaciones entre las variables y ver la influencia que tienen sobre el tipo de publicación. Se buscará poder **predecir el tipo/intención de la publicación**. En el futuro, estaría bueno poder aplicar lo que se logre, automatizarlo y poder detectar de que tipo de posteo se trata, y si se puede utilizar para Argentina mejor (aunque es cierto que hay elementos que dependen mucho del contexto politico y social)\n",
    "\n",
    "Por lo tanto, nuestra variable dependiente es **\"message\"**, y el resto las independientes (luego se elegirán las más adecuadas)\n",
    "\n",
    "Para ellos se crearán variables tomando las ya existentes, y las palabras dentro de los textos.\n",
    "\n",
    "Como hipótesis inicial, se cree que para cada una de las diferentes intenciones de los mensajes, se utilizan diferentes palabras claves, además el sesgo (bias) va a influir, ya que si es partidario será más de ataque y si es neutral más de apoyo, por ejemplo."
   ],
   "metadata": {
    "collapsed": false,
    "pycharm": {
     "name": "#%% md\n"
    }
   }
  },
  {
   "cell_type": "code",
   "execution_count": 153,
   "metadata": {
    "pycharm": {
     "name": "#%%\n"
    }
   },
   "outputs": [
    {
     "data": {
      "text/plain": "    _unit_id _last_judgment_at  audience      bias message    bioid  \\\n0  766192484      8/4/15 21:17  national  partisan  policy  R000596   \n1  766192485      8/4/15 21:20  national  partisan  attack  M000355   \n\n            id                                           label   source  \\\n0  3.83249E+17  From: Trey Radel (Representative from Florida)  twitter   \n1  3.11208E+17   From: Mitch McConnell (Senator from Kentucky)  twitter   \n\n                                                text  \n0  RT @nowthisnews: Rep. Trey Radel (R- #FL) slam...  \n1  VIDEO - #Obamacare:  Full of Higher Costs and ...  ",
      "text/html": "<div>\n<style scoped>\n    .dataframe tbody tr th:only-of-type {\n        vertical-align: middle;\n    }\n\n    .dataframe tbody tr th {\n        vertical-align: top;\n    }\n\n    .dataframe thead th {\n        text-align: right;\n    }\n</style>\n<table border=\"1\" class=\"dataframe\">\n  <thead>\n    <tr style=\"text-align: right;\">\n      <th></th>\n      <th>_unit_id</th>\n      <th>_last_judgment_at</th>\n      <th>audience</th>\n      <th>bias</th>\n      <th>message</th>\n      <th>bioid</th>\n      <th>id</th>\n      <th>label</th>\n      <th>source</th>\n      <th>text</th>\n    </tr>\n  </thead>\n  <tbody>\n    <tr>\n      <th>0</th>\n      <td>766192484</td>\n      <td>8/4/15 21:17</td>\n      <td>national</td>\n      <td>partisan</td>\n      <td>policy</td>\n      <td>R000596</td>\n      <td>3.83249E+17</td>\n      <td>From: Trey Radel (Representative from Florida)</td>\n      <td>twitter</td>\n      <td>RT @nowthisnews: Rep. Trey Radel (R- #FL) slam...</td>\n    </tr>\n    <tr>\n      <th>1</th>\n      <td>766192485</td>\n      <td>8/4/15 21:20</td>\n      <td>national</td>\n      <td>partisan</td>\n      <td>attack</td>\n      <td>M000355</td>\n      <td>3.11208E+17</td>\n      <td>From: Mitch McConnell (Senator from Kentucky)</td>\n      <td>twitter</td>\n      <td>VIDEO - #Obamacare:  Full of Higher Costs and ...</td>\n    </tr>\n  </tbody>\n</table>\n</div>"
     },
     "execution_count": 153,
     "metadata": {},
     "output_type": "execute_result"
    }
   ],
   "source": [
    "file = \"../data/political_social_media.csv\"\n",
    "political_posts = pd.read_csv(file, encoding_errors = \"ignore\", usecols= ['_unit_id',\n",
    "       '_last_judgment_at', 'audience', 'bias', 'message', 'bioid', 'id', 'label', 'source', 'text'])\n",
    "political_posts.head(2)"
   ]
  },
  {
   "cell_type": "markdown",
   "source": [
    "# 1- Dimensiones e información"
   ],
   "metadata": {
    "collapsed": false,
    "pycharm": {
     "name": "#%% md\n"
    }
   }
  },
  {
   "cell_type": "code",
   "execution_count": 154,
   "metadata": {
    "pycharm": {
     "name": "#%%\n"
    }
   },
   "outputs": [
    {
     "name": "stdout",
     "output_type": "stream",
     "text": [
      "El dataset cuenta con 5000 resgistros y 10 columnas\n"
     ]
    }
   ],
   "source": [
    "dimensiones = political_posts.shape\n",
    "print(f'El dataset cuenta con {dimensiones[0]} resgistros y {dimensiones[1]} columnas')"
   ]
  },
  {
   "cell_type": "code",
   "execution_count": 155,
   "metadata": {
    "pycharm": {
     "name": "#%%\n"
    }
   },
   "outputs": [
    {
     "data": {
      "text/plain": "Index(['_unit_id', '_last_judgment_at', 'audience', 'bias', 'message', 'bioid',\n       'id', 'label', 'source', 'text'],\n      dtype='object')"
     },
     "execution_count": 155,
     "metadata": {},
     "output_type": "execute_result"
    }
   ],
   "source": [
    "political_posts.columns"
   ]
  },
  {
   "cell_type": "code",
   "execution_count": 156,
   "metadata": {
    "pycharm": {
     "name": "#%%\n"
    }
   },
   "outputs": [
    {
     "data": {
      "text/plain": "Index(['unit_id', 'last_judgment_date', 'audience', 'bias', 'message',\n       'politico_id', 'mensaje_id_sitio', 'label', 'source', 'text'],\n      dtype='object')"
     },
     "execution_count": 156,
     "metadata": {},
     "output_type": "execute_result"
    }
   ],
   "source": [
    "political_posts.rename(columns={'_unit_id': 'unit_id', '_last_judgment_at': 'last_judgment_date', 'bioid': 'politico_id','id': 'mensaje_id_sitio' }, inplace=True)\n",
    "political_posts.columns"
   ]
  },
  {
   "cell_type": "markdown",
   "source": [
    "#### Tipos de datos y cambio"
   ],
   "metadata": {
    "collapsed": false,
    "pycharm": {
     "name": "#%% md\n"
    }
   }
  },
  {
   "cell_type": "code",
   "execution_count": 157,
   "metadata": {
    "pycharm": {
     "name": "#%%\n"
    }
   },
   "outputs": [
    {
     "data": {
      "text/plain": "unit_id                int64\nlast_judgment_date    object\naudience              object\nbias                  object\nmessage               object\npolitico_id           object\nmensaje_id_sitio      object\nlabel                 object\nsource                object\ntext                  object\ndtype: object"
     },
     "execution_count": 157,
     "metadata": {},
     "output_type": "execute_result"
    }
   ],
   "source": [
    "political_posts.dtypes"
   ]
  },
  {
   "cell_type": "code",
   "execution_count": 158,
   "metadata": {
    "pycharm": {
     "name": "#%%\n"
    }
   },
   "outputs": [
    {
     "data": {
      "text/plain": "unit_id                        int64\nlast_judgment_date    datetime64[ns]\naudience                      object\nbias                          object\nmessage                       object\npolitico_id                   object\nmensaje_id_sitio              object\nlabel                         object\nsource                        object\ntext                          object\ndtype: object"
     },
     "execution_count": 158,
     "metadata": {},
     "output_type": "execute_result"
    }
   ],
   "source": [
    "political_posts.last_judgment_date = pd.to_datetime(political_posts.last_judgment_date)\n",
    "political_posts.dtypes"
   ]
  },
  {
   "cell_type": "markdown",
   "source": [
    "#### Fechas"
   ],
   "metadata": {
    "collapsed": false,
    "pycharm": {
     "name": "#%% md\n"
    }
   }
  },
  {
   "cell_type": "code",
   "execution_count": 159,
   "metadata": {
    "pycharm": {
     "name": "#%%\n"
    }
   },
   "outputs": [
    {
     "name": "stdout",
     "output_type": "stream",
     "text": [
      "El periodo que se analizaron las publicaciones fue desde:2015-08-04 20:02:00, hasta: 2015-08-05 14:55:00\n"
     ]
    }
   ],
   "source": [
    "print(f\"El periodo que se analizaron las publicaciones fue desde:{min(political_posts.last_judgment_date)}, hasta: {max(political_posts.last_judgment_date)}\")"
   ]
  },
  {
   "cell_type": "markdown",
   "metadata": {
    "pycharm": {
     "name": "#%% md\n"
    }
   },
   "source": [
    "Durante este periodo, el presidente de los Estados UNidos era Barack Obama, siendo parte del partido Democrata"
   ]
  },
  {
   "cell_type": "code",
   "execution_count": 160,
   "metadata": {
    "pycharm": {
     "name": "#%%\n"
    }
   },
   "outputs": [
    {
     "data": {
      "text/plain": "array(['policy', 'attack', 'support', 'information', 'mobilization',\n       'personal', 'other', 'constituency', 'media'], dtype=object)"
     },
     "execution_count": 160,
     "metadata": {},
     "output_type": "execute_result"
    }
   ],
   "source": [
    "political_posts.message.unique()"
   ]
  },
  {
   "cell_type": "markdown",
   "source": [
    "# 2- Faltantes"
   ],
   "metadata": {
    "collapsed": false,
    "pycharm": {
     "name": "#%% md\n"
    }
   }
  },
  {
   "cell_type": "code",
   "execution_count": 161,
   "outputs": [
    {
     "data": {
      "text/plain": "unit_id               0\nlast_judgment_date    0\naudience              0\nbias                  0\nmessage               0\npolitico_id           0\nmensaje_id_sitio      0\nlabel                 0\nsource                0\ntext                  0\ndtype: int64"
     },
     "execution_count": 161,
     "metadata": {},
     "output_type": "execute_result"
    }
   ],
   "source": [
    "political_posts.isna().sum()"
   ],
   "metadata": {
    "collapsed": false,
    "pycharm": {
     "name": "#%%\n"
    }
   }
  },
  {
   "cell_type": "markdown",
   "source": [
    "# 3- Duplicados"
   ],
   "metadata": {
    "collapsed": false,
    "pycharm": {
     "name": "#%% md\n"
    }
   }
  },
  {
   "cell_type": "code",
   "execution_count": 162,
   "outputs": [
    {
     "name": "stdout",
     "output_type": "stream",
     "text": [
      "Hay 0 duplicados\n"
     ]
    }
   ],
   "source": [
    "cantidad_duplicados = len(political_posts) - len(political_posts.drop_duplicates())\n",
    "print(f\"Hay {cantidad_duplicados} duplicados\")"
   ],
   "metadata": {
    "collapsed": false,
    "pycharm": {
     "name": "#%%\n"
    }
   }
  },
  {
   "cell_type": "markdown",
   "source": [
    "# 4- Creo algunas variables"
   ],
   "metadata": {
    "collapsed": false,
    "pycharm": {
     "name": "#%% md\n"
    }
   }
  },
  {
   "cell_type": "markdown",
   "source": [
    "## Cantidad de palabras"
   ],
   "metadata": {
    "collapsed": false,
    "pycharm": {
     "name": "#%% md\n"
    }
   }
  },
  {
   "cell_type": "markdown",
   "metadata": {
    "pycharm": {
     "name": "#%% md\n"
    }
   },
   "source": [
    "Creo la columna: cantidad de palabras, para ver si luego encuentro una relacione entre esto y la intencion del mensaje"
   ]
  },
  {
   "cell_type": "code",
   "execution_count": 163,
   "metadata": {
    "pycharm": {
     "name": "#%%\n"
    }
   },
   "outputs": [
    {
     "data": {
      "text/plain": "     unit_id  last_judgment_date  audience      bias  message politico_id  \\\n0  766192484 2015-08-04 21:17:00  national  partisan   policy     R000596   \n1  766192485 2015-08-04 21:20:00  national  partisan   attack     M000355   \n2  766192486 2015-08-04 21:14:00  national   neutral  support     S001180   \n3  766192487 2015-08-04 21:08:00  national   neutral   policy     C000880   \n4  766192488 2015-08-04 21:26:00  national  partisan   policy     U000038   \n\n  mensaje_id_sitio                                             label   source  \\\n0      3.83249E+17    From: Trey Radel (Representative from Florida)  twitter   \n1      3.11208E+17     From: Mitch McConnell (Senator from Kentucky)  twitter   \n2      3.39069E+17  From: Kurt Schrader (Representative from Oregon)  twitter   \n3      2.98528E+17          From: Michael Crapo (Senator from Idaho)  twitter   \n4      4.07643E+17          From: Mark Udall (Senator from Colorado)  twitter   \n\n                                                text  cantidad_caracteres  \n0  RT @nowthisnews: Rep. Trey Radel (R- #FL) slam...                   93  \n1  VIDEO - #Obamacare:  Full of Higher Costs and ...                   85  \n2  Please join me today in remembering our fallen...                  136  \n3  RT @SenatorLeahy: 1st step toward Senate debat...                  122  \n4  .@amazon delivery #drones show need to update ...                  143  ",
      "text/html": "<div>\n<style scoped>\n    .dataframe tbody tr th:only-of-type {\n        vertical-align: middle;\n    }\n\n    .dataframe tbody tr th {\n        vertical-align: top;\n    }\n\n    .dataframe thead th {\n        text-align: right;\n    }\n</style>\n<table border=\"1\" class=\"dataframe\">\n  <thead>\n    <tr style=\"text-align: right;\">\n      <th></th>\n      <th>unit_id</th>\n      <th>last_judgment_date</th>\n      <th>audience</th>\n      <th>bias</th>\n      <th>message</th>\n      <th>politico_id</th>\n      <th>mensaje_id_sitio</th>\n      <th>label</th>\n      <th>source</th>\n      <th>text</th>\n      <th>cantidad_caracteres</th>\n    </tr>\n  </thead>\n  <tbody>\n    <tr>\n      <th>0</th>\n      <td>766192484</td>\n      <td>2015-08-04 21:17:00</td>\n      <td>national</td>\n      <td>partisan</td>\n      <td>policy</td>\n      <td>R000596</td>\n      <td>3.83249E+17</td>\n      <td>From: Trey Radel (Representative from Florida)</td>\n      <td>twitter</td>\n      <td>RT @nowthisnews: Rep. Trey Radel (R- #FL) slam...</td>\n      <td>93</td>\n    </tr>\n    <tr>\n      <th>1</th>\n      <td>766192485</td>\n      <td>2015-08-04 21:20:00</td>\n      <td>national</td>\n      <td>partisan</td>\n      <td>attack</td>\n      <td>M000355</td>\n      <td>3.11208E+17</td>\n      <td>From: Mitch McConnell (Senator from Kentucky)</td>\n      <td>twitter</td>\n      <td>VIDEO - #Obamacare:  Full of Higher Costs and ...</td>\n      <td>85</td>\n    </tr>\n    <tr>\n      <th>2</th>\n      <td>766192486</td>\n      <td>2015-08-04 21:14:00</td>\n      <td>national</td>\n      <td>neutral</td>\n      <td>support</td>\n      <td>S001180</td>\n      <td>3.39069E+17</td>\n      <td>From: Kurt Schrader (Representative from Oregon)</td>\n      <td>twitter</td>\n      <td>Please join me today in remembering our fallen...</td>\n      <td>136</td>\n    </tr>\n    <tr>\n      <th>3</th>\n      <td>766192487</td>\n      <td>2015-08-04 21:08:00</td>\n      <td>national</td>\n      <td>neutral</td>\n      <td>policy</td>\n      <td>C000880</td>\n      <td>2.98528E+17</td>\n      <td>From: Michael Crapo (Senator from Idaho)</td>\n      <td>twitter</td>\n      <td>RT @SenatorLeahy: 1st step toward Senate debat...</td>\n      <td>122</td>\n    </tr>\n    <tr>\n      <th>4</th>\n      <td>766192488</td>\n      <td>2015-08-04 21:26:00</td>\n      <td>national</td>\n      <td>partisan</td>\n      <td>policy</td>\n      <td>U000038</td>\n      <td>4.07643E+17</td>\n      <td>From: Mark Udall (Senator from Colorado)</td>\n      <td>twitter</td>\n      <td>.@amazon delivery #drones show need to update ...</td>\n      <td>143</td>\n    </tr>\n  </tbody>\n</table>\n</div>"
     },
     "execution_count": 163,
     "metadata": {},
     "output_type": "execute_result"
    }
   ],
   "source": [
    "political_posts['cantidad_caracteres'] = political_posts.text.str.len()\n",
    "political_posts.head()"
   ]
  },
  {
   "cell_type": "code",
   "execution_count": 164,
   "metadata": {
    "pycharm": {
     "name": "#%%\n"
    }
   },
   "outputs": [
    {
     "data": {
      "text/plain": "            unit_id  cantidad_caracteres\ncount  5.000000e+03          5000.000000\nmean   7.661950e+08           204.396400\nstd    1.444060e+03           301.226757\nmin    7.661925e+08             1.000000\n25%    7.661937e+08           112.000000\n50%    7.661950e+08           137.000000\n75%    7.661962e+08           205.000000\nmax    7.661975e+08         14344.000000",
      "text/html": "<div>\n<style scoped>\n    .dataframe tbody tr th:only-of-type {\n        vertical-align: middle;\n    }\n\n    .dataframe tbody tr th {\n        vertical-align: top;\n    }\n\n    .dataframe thead th {\n        text-align: right;\n    }\n</style>\n<table border=\"1\" class=\"dataframe\">\n  <thead>\n    <tr style=\"text-align: right;\">\n      <th></th>\n      <th>unit_id</th>\n      <th>cantidad_caracteres</th>\n    </tr>\n  </thead>\n  <tbody>\n    <tr>\n      <th>count</th>\n      <td>5.000000e+03</td>\n      <td>5000.000000</td>\n    </tr>\n    <tr>\n      <th>mean</th>\n      <td>7.661950e+08</td>\n      <td>204.396400</td>\n    </tr>\n    <tr>\n      <th>std</th>\n      <td>1.444060e+03</td>\n      <td>301.226757</td>\n    </tr>\n    <tr>\n      <th>min</th>\n      <td>7.661925e+08</td>\n      <td>1.000000</td>\n    </tr>\n    <tr>\n      <th>25%</th>\n      <td>7.661937e+08</td>\n      <td>112.000000</td>\n    </tr>\n    <tr>\n      <th>50%</th>\n      <td>7.661950e+08</td>\n      <td>137.000000</td>\n    </tr>\n    <tr>\n      <th>75%</th>\n      <td>7.661962e+08</td>\n      <td>205.000000</td>\n    </tr>\n    <tr>\n      <th>max</th>\n      <td>7.661975e+08</td>\n      <td>14344.000000</td>\n    </tr>\n  </tbody>\n</table>\n</div>"
     },
     "execution_count": 164,
     "metadata": {},
     "output_type": "execute_result"
    }
   ],
   "source": [
    "political_posts.describe()"
   ]
  },
  {
   "cell_type": "markdown",
   "source": [
    "### Analizo outliers"
   ],
   "metadata": {
    "collapsed": false,
    "pycharm": {
     "name": "#%% md\n"
    }
   }
  },
  {
   "cell_type": "code",
   "execution_count": 165,
   "metadata": {
    "pycharm": {
     "name": "#%%\n"
    }
   },
   "outputs": [
    {
     "data": {
      "text/plain": "<Figure size 1350x630 with 1 Axes>",
      "image/png": "[encoded data removed]"
     },
     "metadata": {},
     "output_type": "display_data"
    }
   ],
   "source": [
    "fig = plt.figure(figsize =(15, 7))\n",
    "plt.boxplot(political_posts.cantidad_caracteres)\n",
    "plt.show()"
   ]
  },
  {
   "cell_type": "markdown",
   "source": [
    "###### 280 es el limite de caracteres en twitter"
   ],
   "metadata": {
    "collapsed": false,
    "pycharm": {
     "name": "#%% md\n"
    }
   }
  },
  {
   "cell_type": "code",
   "execution_count": 166,
   "outputs": [
    {
     "data": {
      "text/plain": "        unit_id  last_judgment_date  audience      bias      message  \\\n2501  766194987 2015-08-05 04:43:00  national   neutral  information   \n2503  766194989 2015-08-05 05:40:00  national   neutral       policy   \n2504  766194990 2015-08-05 05:40:00  national   neutral       policy   \n2505  766194991 2015-08-05 05:13:00  national   neutral       policy   \n2506  766194992 2015-08-05 06:02:00  national  partisan       policy   \n...         ...                 ...       ...       ...          ...   \n4992  766197479 2015-08-05 05:36:00  national   neutral        media   \n4994  766197481 2015-08-05 05:39:00  national   neutral     personal   \n4995  766197482 2015-08-05 06:05:00  national  partisan      support   \n4996  766197483 2015-08-05 05:57:00  national  partisan       policy   \n4997  766197484 2015-08-05 05:10:00  national   neutral       policy   \n\n     politico_id                  mensaje_id_sitio  \\\n2501     A000055     19787529402_10151438053704403   \n2503     A000360     89927603836_10151473528428837   \n2504     A000360     89927603836_10102170734377750   \n2505     A000367   173604349345646_858910437481697   \n2506     A000367   173604349345646_727641740608568   \n...          ...                               ...   \n4992     Y000064   186203844738421_278220632312018   \n4994     Y000065  563532937006022_1005685512790760   \n4995     Y000065   563532937006022_939071892785456   \n4996     Y000065   563532937006022_936080056417973   \n4997     Y000065   563532937006022_905547326137913   \n\n                                                  label    source  \\\n2501  From: Robert Aderholt (Representative from Ala...  facebook   \n2503     From: Lamar Alexander (Senator from Tennessee)  facebook   \n2504     From: Lamar Alexander (Senator from Tennessee)  facebook   \n2505  From: Justin Amash (Representative from Michigan)  facebook   \n2506  From: Justin Amash (Representative from Michigan)  facebook   \n...                                                 ...       ...   \n4992     From: Todd Young (Representative from Indiana)  facebook   \n4994       From: Ted Yoho (Representative from Florida)  facebook   \n4995       From: Ted Yoho (Representative from Florida)  facebook   \n4996       From: Ted Yoho (Representative from Florida)  facebook   \n4997       From: Ted Yoho (Representative from Florida)  facebook   \n\n                                                   text  cantidad_caracteres  \n2501  In today۪s challenging budgetary environment, ...                  466  \n2503  ICYMI: Sen. Alexander on Saturday delivered th...                  628  \n2504  ICYMI: On the Senate floor yesterday, Sen. Ale...                  442  \n2505  I voted yes on #HR2, American Energy Solutions...                  303  \n2506  Congressman Ron DeSantis endorses Rep. Ra̼l R....                 1234  \n...                                                 ...                  ...  \n4992  Take a look at a recent article in the Corydon...                  307  \n4994  I was honored to host the Discovery Channel in...                  350  \n4995  I applaud Governor Perry۪s recent decision to ...                  350  \n4996  Today, I voted in favor of H.R. 5016 - Financi...                  841  \n4997  (Taken from posted WOKV interview)   Congressm...                  435  \n\n[869 rows x 11 columns]",
      "text/html": "<div>\n<style scoped>\n    .dataframe tbody tr th:only-of-type {\n        vertical-align: middle;\n    }\n\n    .dataframe tbody tr th {\n        vertical-align: top;\n    }\n\n    .dataframe thead th {\n        text-align: right;\n    }\n</style>\n<table border=\"1\" class=\"dataframe\">\n  <thead>\n    <tr style=\"text-align: right;\">\n      <th></th>\n      <th>unit_id</th>\n      <th>last_judgment_date</th>\n      <th>audience</th>\n      <th>bias</th>\n      <th>message</th>\n      <th>politico_id</th>\n      <th>mensaje_id_sitio</th>\n      <th>label</th>\n      <th>source</th>\n      <th>text</th>\n      <th>cantidad_caracteres</th>\n    </tr>\n  </thead>\n  <tbody>\n    <tr>\n      <th>2501</th>\n      <td>766194987</td>\n      <td>2015-08-05 04:43:00</td>\n      <td>national</td>\n      <td>neutral</td>\n      <td>information</td>\n      <td>A000055</td>\n      <td>19787529402_10151438053704403</td>\n      <td>From: Robert Aderholt (Representative from Ala...</td>\n      <td>facebook</td>\n      <td>In today۪s challenging budgetary environment, ...</td>\n      <td>466</td>\n    </tr>\n    <tr>\n      <th>2503</th>\n      <td>766194989</td>\n      <td>2015-08-05 05:40:00</td>\n      <td>national</td>\n      <td>neutral</td>\n      <td>policy</td>\n      <td>A000360</td>\n      <td>89927603836_10151473528428837</td>\n      <td>From: Lamar Alexander (Senator from Tennessee)</td>\n      <td>facebook</td>\n      <td>ICYMI: Sen. Alexander on Saturday delivered th...</td>\n      <td>628</td>\n    </tr>\n    <tr>\n      <th>2504</th>\n      <td>766194990</td>\n      <td>2015-08-05 05:40:00</td>\n      <td>national</td>\n      <td>neutral</td>\n      <td>policy</td>\n      <td>A000360</td>\n      <td>89927603836_10102170734377750</td>\n      <td>From: Lamar Alexander (Senator from Tennessee)</td>\n      <td>facebook</td>\n      <td>ICYMI: On the Senate floor yesterday, Sen. Ale...</td>\n      <td>442</td>\n    </tr>\n    <tr>\n      <th>2505</th>\n      <td>766194991</td>\n      <td>2015-08-05 05:13:00</td>\n      <td>national</td>\n      <td>neutral</td>\n      <td>policy</td>\n      <td>A000367</td>\n      <td>173604349345646_858910437481697</td>\n      <td>From: Justin Amash (Representative from Michigan)</td>\n      <td>facebook</td>\n      <td>I voted yes on #HR2, American Energy Solutions...</td>\n      <td>303</td>\n    </tr>\n    <tr>\n      <th>2506</th>\n      <td>766194992</td>\n      <td>2015-08-05 06:02:00</td>\n      <td>national</td>\n      <td>partisan</td>\n      <td>policy</td>\n      <td>A000367</td>\n      <td>173604349345646_727641740608568</td>\n      <td>From: Justin Amash (Representative from Michigan)</td>\n      <td>facebook</td>\n      <td>Congressman Ron DeSantis endorses Rep. Ra̼l R....</td>\n      <td>1234</td>\n    </tr>\n    <tr>\n      <th>...</th>\n      <td>...</td>\n      <td>...</td>\n      <td>...</td>\n      <td>...</td>\n      <td>...</td>\n      <td>...</td>\n      <td>...</td>\n      <td>...</td>\n      <td>...</td>\n      <td>...</td>\n      <td>...</td>\n    </tr>\n    <tr>\n      <th>4992</th>\n      <td>766197479</td>\n      <td>2015-08-05 05:36:00</td>\n      <td>national</td>\n      <td>neutral</td>\n      <td>media</td>\n      <td>Y000064</td>\n      <td>186203844738421_278220632312018</td>\n      <td>From: Todd Young (Representative from Indiana)</td>\n      <td>facebook</td>\n      <td>Take a look at a recent article in the Corydon...</td>\n      <td>307</td>\n    </tr>\n    <tr>\n      <th>4994</th>\n      <td>766197481</td>\n      <td>2015-08-05 05:39:00</td>\n      <td>national</td>\n      <td>neutral</td>\n      <td>personal</td>\n      <td>Y000065</td>\n      <td>563532937006022_1005685512790760</td>\n      <td>From: Ted Yoho (Representative from Florida)</td>\n      <td>facebook</td>\n      <td>I was honored to host the Discovery Channel in...</td>\n      <td>350</td>\n    </tr>\n    <tr>\n      <th>4995</th>\n      <td>766197482</td>\n      <td>2015-08-05 06:05:00</td>\n      <td>national</td>\n      <td>partisan</td>\n      <td>support</td>\n      <td>Y000065</td>\n      <td>563532937006022_939071892785456</td>\n      <td>From: Ted Yoho (Representative from Florida)</td>\n      <td>facebook</td>\n      <td>I applaud Governor Perry۪s recent decision to ...</td>\n      <td>350</td>\n    </tr>\n    <tr>\n      <th>4996</th>\n      <td>766197483</td>\n      <td>2015-08-05 05:57:00</td>\n      <td>national</td>\n      <td>partisan</td>\n      <td>policy</td>\n      <td>Y000065</td>\n      <td>563532937006022_936080056417973</td>\n      <td>From: Ted Yoho (Representative from Florida)</td>\n      <td>facebook</td>\n      <td>Today, I voted in favor of H.R. 5016 - Financi...</td>\n      <td>841</td>\n    </tr>\n    <tr>\n      <th>4997</th>\n      <td>766197484</td>\n      <td>2015-08-05 05:10:00</td>\n      <td>national</td>\n      <td>neutral</td>\n      <td>policy</td>\n      <td>Y000065</td>\n      <td>563532937006022_905547326137913</td>\n      <td>From: Ted Yoho (Representative from Florida)</td>\n      <td>facebook</td>\n      <td>(Taken from posted WOKV interview)   Congressm...</td>\n      <td>435</td>\n    </tr>\n  </tbody>\n</table>\n<p>869 rows × 11 columns</p>\n</div>"
     },
     "execution_count": 166,
     "metadata": {},
     "output_type": "execute_result"
    }
   ],
   "source": [
    "posibles_outliers = political_posts[political_posts.cantidad_caracteres > 280]\n",
    "posibles_outliers"
   ],
   "metadata": {
    "collapsed": false,
    "pycharm": {
     "name": "#%%\n"
    }
   }
  },
  {
   "cell_type": "code",
   "execution_count": 167,
   "metadata": {
    "pycharm": {
     "name": "#%%\n"
    }
   },
   "outputs": [
    {
     "data": {
      "text/plain": "array(['facebook'], dtype=object)"
     },
     "execution_count": 167,
     "metadata": {},
     "output_type": "execute_result"
    }
   ],
   "source": [
    "posibles_outliers.source.unique()"
   ]
  },
  {
   "cell_type": "markdown",
   "metadata": {
    "pycharm": {
     "name": "#%% md\n"
    }
   },
   "source": [
    "Esta cantidad es posible, ya que es una publicacion de facebook, y no hay limitaciones al respecto en esta red social"
   ]
  },
  {
   "cell_type": "markdown",
   "source": [
    "## Usuario, cargo y estado"
   ],
   "metadata": {
    "collapsed": false,
    "pycharm": {
     "name": "#%% md\n"
    }
   }
  },
  {
   "cell_type": "markdown",
   "metadata": {
    "pycharm": {
     "name": "#%% md\n"
    }
   },
   "source": [
    "Tomo la columna label, y a partir de ella, creo: usuario, cargo y estado. Para asi poder analizar por separado"
   ]
  },
  {
   "cell_type": "code",
   "execution_count": 168,
   "metadata": {
    "pycharm": {
     "name": "#%%\n"
    }
   },
   "outputs": [
    {
     "data": {
      "text/plain": "     unit_id  last_judgment_date  audience      bias  message politico_id  \\\n0  766192484 2015-08-04 21:17:00  national  partisan   policy     R000596   \n1  766192485 2015-08-04 21:20:00  national  partisan   attack     M000355   \n2  766192486 2015-08-04 21:14:00  national   neutral  support     S001180   \n3  766192487 2015-08-04 21:08:00  national   neutral   policy     C000880   \n4  766192488 2015-08-04 21:26:00  national  partisan   policy     U000038   \n\n  mensaje_id_sitio   source  \\\n0      3.83249E+17  twitter   \n1      3.11208E+17  twitter   \n2      3.39069E+17  twitter   \n3      2.98528E+17  twitter   \n4      4.07643E+17  twitter   \n\n                                                text  cantidad_caracteres  \\\n0  RT @nowthisnews: Rep. Trey Radel (R- #FL) slam...                   93   \n1  VIDEO - #Obamacare:  Full of Higher Costs and ...                   85   \n2  Please join me today in remembering our fallen...                  136   \n3  RT @SenatorLeahy: 1st step toward Senate debat...                  122   \n4  .@amazon delivery #drones show need to update ...                  143   \n\n           usuario           cargo    estado  \n0       Trey Radel  Representative   Florida  \n1  Mitch McConnell         Senator  Kentucky  \n2    Kurt Schrader  Representative    Oregon  \n3    Michael Crapo         Senator     Idaho  \n4       Mark Udall         Senator  Colorado  ",
      "text/html": "<div>\n<style scoped>\n    .dataframe tbody tr th:only-of-type {\n        vertical-align: middle;\n    }\n\n    .dataframe tbody tr th {\n        vertical-align: top;\n    }\n\n    .dataframe thead th {\n        text-align: right;\n    }\n</style>\n<table border=\"1\" class=\"dataframe\">\n  <thead>\n    <tr style=\"text-align: right;\">\n      <th></th>\n      <th>unit_id</th>\n      <th>last_judgment_date</th>\n      <th>audience</th>\n      <th>bias</th>\n      <th>message</th>\n      <th>politico_id</th>\n      <th>mensaje_id_sitio</th>\n      <th>source</th>\n      <th>text</th>\n      <th>cantidad_caracteres</th>\n      <th>usuario</th>\n      <th>cargo</th>\n      <th>estado</th>\n    </tr>\n  </thead>\n  <tbody>\n    <tr>\n      <th>0</th>\n      <td>766192484</td>\n      <td>2015-08-04 21:17:00</td>\n      <td>national</td>\n      <td>partisan</td>\n      <td>policy</td>\n      <td>R000596</td>\n      <td>3.83249E+17</td>\n      <td>twitter</td>\n      <td>RT @nowthisnews: Rep. Trey Radel (R- #FL) slam...</td>\n      <td>93</td>\n      <td>Trey Radel</td>\n      <td>Representative</td>\n      <td>Florida</td>\n    </tr>\n    <tr>\n      <th>1</th>\n      <td>766192485</td>\n      <td>2015-08-04 21:20:00</td>\n      <td>national</td>\n      <td>partisan</td>\n      <td>attack</td>\n      <td>M000355</td>\n      <td>3.11208E+17</td>\n      <td>twitter</td>\n      <td>VIDEO - #Obamacare:  Full of Higher Costs and ...</td>\n      <td>85</td>\n      <td>Mitch McConnell</td>\n      <td>Senator</td>\n      <td>Kentucky</td>\n    </tr>\n    <tr>\n      <th>2</th>\n      <td>766192486</td>\n      <td>2015-08-04 21:14:00</td>\n      <td>national</td>\n      <td>neutral</td>\n      <td>support</td>\n      <td>S001180</td>\n      <td>3.39069E+17</td>\n      <td>twitter</td>\n      <td>Please join me today in remembering our fallen...</td>\n      <td>136</td>\n      <td>Kurt Schrader</td>\n      <td>Representative</td>\n      <td>Oregon</td>\n    </tr>\n    <tr>\n      <th>3</th>\n      <td>766192487</td>\n      <td>2015-08-04 21:08:00</td>\n      <td>national</td>\n      <td>neutral</td>\n      <td>policy</td>\n      <td>C000880</td>\n      <td>2.98528E+17</td>\n      <td>twitter</td>\n      <td>RT @SenatorLeahy: 1st step toward Senate debat...</td>\n      <td>122</td>\n      <td>Michael Crapo</td>\n      <td>Senator</td>\n      <td>Idaho</td>\n    </tr>\n    <tr>\n      <th>4</th>\n      <td>766192488</td>\n      <td>2015-08-04 21:26:00</td>\n      <td>national</td>\n      <td>partisan</td>\n      <td>policy</td>\n      <td>U000038</td>\n      <td>4.07643E+17</td>\n      <td>twitter</td>\n      <td>.@amazon delivery #drones show need to update ...</td>\n      <td>143</td>\n      <td>Mark Udall</td>\n      <td>Senator</td>\n      <td>Colorado</td>\n    </tr>\n  </tbody>\n</table>\n</div>"
     },
     "execution_count": 168,
     "metadata": {},
     "output_type": "execute_result"
    }
   ],
   "source": [
    "political_posts['usuario'] = political_posts.label.apply(lambda x: x.split(\": \")[1]).apply(lambda x: x.split(\" (\")[0])\n",
    "political_posts['cargo'] = political_posts.label.apply(lambda x: x.split(\"(\")[1]).apply(lambda x: x.split(\" \")[0])\n",
    "political_posts['estado'] = political_posts.label.apply(lambda x: x.split(\"from \")[1]).apply(lambda x: x.split(\")\")[0])\n",
    "political_posts.drop('label', inplace=True, axis=1)\n",
    "political_posts.head()"
   ]
  },
  {
   "cell_type": "code",
   "execution_count": 169,
   "metadata": {
    "pycharm": {
     "name": "#%%\n"
    }
   },
   "outputs": [
    {
     "data": {
      "text/plain": "array(['Representative', 'Senator'], dtype=object)"
     },
     "execution_count": 169,
     "metadata": {},
     "output_type": "execute_result"
    }
   ],
   "source": [
    "political_posts.cargo.unique()"
   ]
  },
  {
   "cell_type": "code",
   "execution_count": 170,
   "metadata": {
    "pycharm": {
     "name": "#%%\n"
    }
   },
   "outputs": [
    {
     "data": {
      "text/plain": "cargo         Representative    Senator\nmessage                                \nattack              3.527950   3.076923\nconstituency        3.229814   2.256410\ninformation        13.341615  11.282051\nmedia               5.416149   6.051282\nmobilization        2.608696   2.461538\nother               2.633540   1.538462\npersonal           23.975155  21.025641\npolicy             27.155280  32.615385\nsupport            18.111801  19.692308",
      "text/html": "<div>\n<style scoped>\n    .dataframe tbody tr th:only-of-type {\n        vertical-align: middle;\n    }\n\n    .dataframe tbody tr th {\n        vertical-align: top;\n    }\n\n    .dataframe thead th {\n        text-align: right;\n    }\n</style>\n<table border=\"1\" class=\"dataframe\">\n  <thead>\n    <tr style=\"text-align: right;\">\n      <th>cargo</th>\n      <th>Representative</th>\n      <th>Senator</th>\n    </tr>\n    <tr>\n      <th>message</th>\n      <th></th>\n      <th></th>\n    </tr>\n  </thead>\n  <tbody>\n    <tr>\n      <th>attack</th>\n      <td>3.527950</td>\n      <td>3.076923</td>\n    </tr>\n    <tr>\n      <th>constituency</th>\n      <td>3.229814</td>\n      <td>2.256410</td>\n    </tr>\n    <tr>\n      <th>information</th>\n      <td>13.341615</td>\n      <td>11.282051</td>\n    </tr>\n    <tr>\n      <th>media</th>\n      <td>5.416149</td>\n      <td>6.051282</td>\n    </tr>\n    <tr>\n      <th>mobilization</th>\n      <td>2.608696</td>\n      <td>2.461538</td>\n    </tr>\n    <tr>\n      <th>other</th>\n      <td>2.633540</td>\n      <td>1.538462</td>\n    </tr>\n    <tr>\n      <th>personal</th>\n      <td>23.975155</td>\n      <td>21.025641</td>\n    </tr>\n    <tr>\n      <th>policy</th>\n      <td>27.155280</td>\n      <td>32.615385</td>\n    </tr>\n    <tr>\n      <th>support</th>\n      <td>18.111801</td>\n      <td>19.692308</td>\n    </tr>\n  </tbody>\n</table>\n</div>"
     },
     "execution_count": 170,
     "metadata": {},
     "output_type": "execute_result"
    }
   ],
   "source": [
    "posts_mensaje_cargo = political_posts.groupby(['message', 'cargo']).agg(\n",
    "    cantidad_de_posts =  ('unit_id', 'count')).pivot_table( values='cantidad_de_posts', index=['message'],columns=['cargo']).apply(lambda x: x/x.sum() * 100)\n",
    "posts_mensaje_cargo"
   ]
  },
  {
   "cell_type": "code",
   "execution_count": 171,
   "metadata": {
    "pycharm": {
     "name": "#%%\n"
    }
   },
   "outputs": [
    {
     "data": {
      "text/plain": "Texas             494\nCalifornia        486\nFlorida           298\nNew York          224\nOhio              183\nIllinois          183\nPennsylvania      177\nArizona           144\nNew Jersey        137\nNorth Carolina    134\nIndiana           132\nMichigan          129\nVirginia          121\nTennessee         112\nMaryland          108\nMissouri          101\nLouisiana          99\nKansas             98\nKentucky           88\nWashington         85\nArkansas           84\nConnecticut        83\nMassachusetts      83\nSouth Carolina     78\nAlabama            77\nMinnesota          77\nGeorgia            76\nColorado           72\nWisconsin          69\nNew Mexico         61\nVermont            56\nWest Virginia      53\nRhode Island       51\nNevada             50\nIdaho              47\nNew Hampshire      47\nNorth Dakota       47\nIowa               45\nOregon             44\nUtah               38\nMississippi        32\nOklahoma           31\nDelaware           27\nAlaska             26\nWyoming            21\nNA                 19\nNebraska           19\nSouth Dakota       18\nHawaii             13\nMaine              12\nMontana            11\nName: estado, dtype: int64"
     },
     "execution_count": 171,
     "metadata": {},
     "output_type": "execute_result"
    }
   ],
   "source": [
    "political_posts.estado.value_counts()"
   ]
  },
  {
   "cell_type": "code",
   "execution_count": 172,
   "metadata": {
    "pycharm": {
     "name": "#%%\n"
    }
   },
   "outputs": [
    {
     "data": {
      "text/plain": "        unit_id  last_judgment_date      audience      bias       message  \\\n118   766192603 2015-08-04 21:26:00      national   neutral      personal   \n1004  766193489 2015-08-04 21:19:00      national   neutral       support   \n1440  766193925 2015-08-04 21:05:00      national  partisan   information   \n2612  766195098 2015-08-05 05:34:00      national   neutral      personal   \n2613  766195099 2015-08-05 05:51:00      national   neutral       support   \n2614  766195100 2015-08-05 04:52:00      national   neutral      personal   \n4237  766196723 2015-08-05 05:38:00      national   neutral      personal   \n4238  766196724 2015-08-05 05:53:00      national   neutral       support   \n4239  766196725 2015-08-05 06:20:00      national   neutral   information   \n4240  766196726 2015-08-05 14:06:00      national   neutral       support   \n4241  766196727 2015-08-05 05:29:00      national   neutral   information   \n4242  766196728 2015-08-05 04:56:00      national   neutral         other   \n4243  766196729 2015-08-05 05:34:00      national   neutral        policy   \n4244  766196730 2015-08-05 05:48:00      national   neutral       support   \n4245  766196731 2015-08-05 05:14:00      national   neutral         media   \n4623  766197109 2015-08-05 06:02:00      national   neutral   information   \n4624  766197110 2015-08-05 05:34:00  constituency   neutral  constituency   \n4625  766197111 2015-08-05 05:03:00  constituency   neutral        policy   \n4626  766197112 2015-08-05 05:19:00      national   neutral        policy   \n\n     politico_id                 mensaje_id_sitio    source  \\\n118      N000147                      5.25408E+17   twitter   \n1004     N000147                       3.7309E+17   twitter   \n1440     N000147                      5.35173E+17   twitter   \n2612     B001245  161729837225622_770524009679532  facebook   \n2613     B001245  161729837225622_507743285957607  facebook   \n2614     B001245  161729837225622_505586199506649  facebook   \n4237     P000596    55139978107_10151944179033108  facebook   \n4238     P000596    55139978107_10151678669533108  facebook   \n4239     P000596    55139978107_10151651535108108  facebook   \n4240     P000596    55139978107_10151638681248108  facebook   \n4241     P000596    55139978107_10151612517183108  facebook   \n4242     P000596    55139978107_10151598118293108  facebook   \n4243     P000596    55139978107_10151589892818108  facebook   \n4244     P000596    55139978107_10151537500523108  facebook   \n4245     P000596    55139978107_10151279175143108  facebook   \n4623     S001177   153423912663_10152633857047664  facebook   \n4624     S001177   153423912663_10151844736532664  facebook   \n4625     S001177     153423912663_569279146424342  facebook   \n4626     S001177     153423912663_137704976408141  facebook   \n\n                                                   text  cantidad_caracteres  \\\n118   Looking for Job? Help me, help residents looki...                  138   \n1004  My interview w/ @NiaWaPo on @PostTV, discussin...                  108   \n1440  Government-to-Go: Need help with a federal age...                  138   \n2612  I continue to accept applications for nominati...                  308   \n2613  Congresswoman Bordallo joins Members of Congre...                  267   \n2614  I am deeply saddened at the loss of SGT Eugene...                  428   \n4237  En breve AL AIRE junto a Kike Cruz por Notiuno...                   52   \n4238  @ Fideicomiso de Conservaci_nPR revisando los ...                  116   \n4239  http://www.metro.pr/locales/guardia-costera-co...                  107   \n4240  Los pagos de hospitalizaci_n promedio de Medic...                  525   \n4241  En breve estar̩ en el hemiciclo de la Cmara de...                  213   \n4242  Llegando a reunirme con el Presidente Bill Cli...                   50   \n4243  El Departamento de Seguridad Interna de Estado...                  521   \n4244  Compartiendo con la Asociaci_n Nacional de Con...                  303   \n4245  En la toma de posesi_n del alcalde Isabelo \"Ch...                  113   \n4623  A 6.8 magnitude earthquake occurred off the ea...                  250   \n4624  Occupational Health Nurse  The Department of t...                  417   \n4625  Women and Minorities in STEM Fields Program  T...                  526   \n4626  Human Resources Specialist - The Department of...                  612   \n\n                                 usuario           cargo estado  \n118                       Eleanor Norton  Representative     NA  \n1004                      Eleanor Norton  Representative     NA  \n1440                      Eleanor Norton  Representative     NA  \n2612                  Madeleine Bordallo  Representative     NA  \n2613                  Madeleine Bordallo  Representative     NA  \n2614                  Madeleine Bordallo  Representative     NA  \n4237                     Pedro Pierluisi  Representative     NA  \n4238                     Pedro Pierluisi  Representative     NA  \n4239                     Pedro Pierluisi  Representative     NA  \n4240                     Pedro Pierluisi  Representative     NA  \n4241                     Pedro Pierluisi  Representative     NA  \n4242                     Pedro Pierluisi  Representative     NA  \n4243                     Pedro Pierluisi  Representative     NA  \n4244                     Pedro Pierluisi  Representative     NA  \n4245                     Pedro Pierluisi  Representative     NA  \n4623  Gregorio &#x27;Kilili&#x27; Sablan  Representative     NA  \n4624  Gregorio &#x27;Kilili&#x27; Sablan  Representative     NA  \n4625  Gregorio &#x27;Kilili&#x27; Sablan  Representative     NA  \n4626  Gregorio &#x27;Kilili&#x27; Sablan  Representative     NA  ",
      "text/html": "<div>\n<style scoped>\n    .dataframe tbody tr th:only-of-type {\n        vertical-align: middle;\n    }\n\n    .dataframe tbody tr th {\n        vertical-align: top;\n    }\n\n    .dataframe thead th {\n        text-align: right;\n    }\n</style>\n<table border=\"1\" class=\"dataframe\">\n  <thead>\n    <tr style=\"text-align: right;\">\n      <th></th>\n      <th>unit_id</th>\n      <th>last_judgment_date</th>\n      <th>audience</th>\n      <th>bias</th>\n      <th>message</th>\n      <th>politico_id</th>\n      <th>mensaje_id_sitio</th>\n      <th>source</th>\n      <th>text</th>\n      <th>cantidad_caracteres</th>\n      <th>usuario</th>\n      <th>cargo</th>\n      <th>estado</th>\n    </tr>\n  </thead>\n  <tbody>\n    <tr>\n      <th>118</th>\n      <td>766192603</td>\n      <td>2015-08-04 21:26:00</td>\n      <td>national</td>\n      <td>neutral</td>\n      <td>personal</td>\n      <td>N000147</td>\n      <td>5.25408E+17</td>\n      <td>twitter</td>\n      <td>Looking for Job? Help me, help residents looki...</td>\n      <td>138</td>\n      <td>Eleanor Norton</td>\n      <td>Representative</td>\n      <td>NA</td>\n    </tr>\n    <tr>\n      <th>1004</th>\n      <td>766193489</td>\n      <td>2015-08-04 21:19:00</td>\n      <td>national</td>\n      <td>neutral</td>\n      <td>support</td>\n      <td>N000147</td>\n      <td>3.7309E+17</td>\n      <td>twitter</td>\n      <td>My interview w/ @NiaWaPo on @PostTV, discussin...</td>\n      <td>108</td>\n      <td>Eleanor Norton</td>\n      <td>Representative</td>\n      <td>NA</td>\n    </tr>\n    <tr>\n      <th>1440</th>\n      <td>766193925</td>\n      <td>2015-08-04 21:05:00</td>\n      <td>national</td>\n      <td>partisan</td>\n      <td>information</td>\n      <td>N000147</td>\n      <td>5.35173E+17</td>\n      <td>twitter</td>\n      <td>Government-to-Go: Need help with a federal age...</td>\n      <td>138</td>\n      <td>Eleanor Norton</td>\n      <td>Representative</td>\n      <td>NA</td>\n    </tr>\n    <tr>\n      <th>2612</th>\n      <td>766195098</td>\n      <td>2015-08-05 05:34:00</td>\n      <td>national</td>\n      <td>neutral</td>\n      <td>personal</td>\n      <td>B001245</td>\n      <td>161729837225622_770524009679532</td>\n      <td>facebook</td>\n      <td>I continue to accept applications for nominati...</td>\n      <td>308</td>\n      <td>Madeleine Bordallo</td>\n      <td>Representative</td>\n      <td>NA</td>\n    </tr>\n    <tr>\n      <th>2613</th>\n      <td>766195099</td>\n      <td>2015-08-05 05:51:00</td>\n      <td>national</td>\n      <td>neutral</td>\n      <td>support</td>\n      <td>B001245</td>\n      <td>161729837225622_507743285957607</td>\n      <td>facebook</td>\n      <td>Congresswoman Bordallo joins Members of Congre...</td>\n      <td>267</td>\n      <td>Madeleine Bordallo</td>\n      <td>Representative</td>\n      <td>NA</td>\n    </tr>\n    <tr>\n      <th>2614</th>\n      <td>766195100</td>\n      <td>2015-08-05 04:52:00</td>\n      <td>national</td>\n      <td>neutral</td>\n      <td>personal</td>\n      <td>B001245</td>\n      <td>161729837225622_505586199506649</td>\n      <td>facebook</td>\n      <td>I am deeply saddened at the loss of SGT Eugene...</td>\n      <td>428</td>\n      <td>Madeleine Bordallo</td>\n      <td>Representative</td>\n      <td>NA</td>\n    </tr>\n    <tr>\n      <th>4237</th>\n      <td>766196723</td>\n      <td>2015-08-05 05:38:00</td>\n      <td>national</td>\n      <td>neutral</td>\n      <td>personal</td>\n      <td>P000596</td>\n      <td>55139978107_10151944179033108</td>\n      <td>facebook</td>\n      <td>En breve AL AIRE junto a Kike Cruz por Notiuno...</td>\n      <td>52</td>\n      <td>Pedro Pierluisi</td>\n      <td>Representative</td>\n      <td>NA</td>\n    </tr>\n    <tr>\n      <th>4238</th>\n      <td>766196724</td>\n      <td>2015-08-05 05:53:00</td>\n      <td>national</td>\n      <td>neutral</td>\n      <td>support</td>\n      <td>P000596</td>\n      <td>55139978107_10151678669533108</td>\n      <td>facebook</td>\n      <td>@ Fideicomiso de Conservaci_nPR revisando los ...</td>\n      <td>116</td>\n      <td>Pedro Pierluisi</td>\n      <td>Representative</td>\n      <td>NA</td>\n    </tr>\n    <tr>\n      <th>4239</th>\n      <td>766196725</td>\n      <td>2015-08-05 06:20:00</td>\n      <td>national</td>\n      <td>neutral</td>\n      <td>information</td>\n      <td>P000596</td>\n      <td>55139978107_10151651535108108</td>\n      <td>facebook</td>\n      <td>http://www.metro.pr/locales/guardia-costera-co...</td>\n      <td>107</td>\n      <td>Pedro Pierluisi</td>\n      <td>Representative</td>\n      <td>NA</td>\n    </tr>\n    <tr>\n      <th>4240</th>\n      <td>766196726</td>\n      <td>2015-08-05 14:06:00</td>\n      <td>national</td>\n      <td>neutral</td>\n      <td>support</td>\n      <td>P000596</td>\n      <td>55139978107_10151638681248108</td>\n      <td>facebook</td>\n      <td>Los pagos de hospitalizaci_n promedio de Medic...</td>\n      <td>525</td>\n      <td>Pedro Pierluisi</td>\n      <td>Representative</td>\n      <td>NA</td>\n    </tr>\n    <tr>\n      <th>4241</th>\n      <td>766196727</td>\n      <td>2015-08-05 05:29:00</td>\n      <td>national</td>\n      <td>neutral</td>\n      <td>information</td>\n      <td>P000596</td>\n      <td>55139978107_10151612517183108</td>\n      <td>facebook</td>\n      <td>En breve estar̩ en el hemiciclo de la Cmara de...</td>\n      <td>213</td>\n      <td>Pedro Pierluisi</td>\n      <td>Representative</td>\n      <td>NA</td>\n    </tr>\n    <tr>\n      <th>4242</th>\n      <td>766196728</td>\n      <td>2015-08-05 04:56:00</td>\n      <td>national</td>\n      <td>neutral</td>\n      <td>other</td>\n      <td>P000596</td>\n      <td>55139978107_10151598118293108</td>\n      <td>facebook</td>\n      <td>Llegando a reunirme con el Presidente Bill Cli...</td>\n      <td>50</td>\n      <td>Pedro Pierluisi</td>\n      <td>Representative</td>\n      <td>NA</td>\n    </tr>\n    <tr>\n      <th>4243</th>\n      <td>766196729</td>\n      <td>2015-08-05 05:34:00</td>\n      <td>national</td>\n      <td>neutral</td>\n      <td>policy</td>\n      <td>P000596</td>\n      <td>55139978107_10151589892818108</td>\n      <td>facebook</td>\n      <td>El Departamento de Seguridad Interna de Estado...</td>\n      <td>521</td>\n      <td>Pedro Pierluisi</td>\n      <td>Representative</td>\n      <td>NA</td>\n    </tr>\n    <tr>\n      <th>4244</th>\n      <td>766196730</td>\n      <td>2015-08-05 05:48:00</td>\n      <td>national</td>\n      <td>neutral</td>\n      <td>support</td>\n      <td>P000596</td>\n      <td>55139978107_10151537500523108</td>\n      <td>facebook</td>\n      <td>Compartiendo con la Asociaci_n Nacional de Con...</td>\n      <td>303</td>\n      <td>Pedro Pierluisi</td>\n      <td>Representative</td>\n      <td>NA</td>\n    </tr>\n    <tr>\n      <th>4245</th>\n      <td>766196731</td>\n      <td>2015-08-05 05:14:00</td>\n      <td>national</td>\n      <td>neutral</td>\n      <td>media</td>\n      <td>P000596</td>\n      <td>55139978107_10151279175143108</td>\n      <td>facebook</td>\n      <td>En la toma de posesi_n del alcalde Isabelo \"Ch...</td>\n      <td>113</td>\n      <td>Pedro Pierluisi</td>\n      <td>Representative</td>\n      <td>NA</td>\n    </tr>\n    <tr>\n      <th>4623</th>\n      <td>766197109</td>\n      <td>2015-08-05 06:02:00</td>\n      <td>national</td>\n      <td>neutral</td>\n      <td>information</td>\n      <td>S001177</td>\n      <td>153423912663_10152633857047664</td>\n      <td>facebook</td>\n      <td>A 6.8 magnitude earthquake occurred off the ea...</td>\n      <td>250</td>\n      <td>Gregorio &amp;#x27;Kilili&amp;#x27; Sablan</td>\n      <td>Representative</td>\n      <td>NA</td>\n    </tr>\n    <tr>\n      <th>4624</th>\n      <td>766197110</td>\n      <td>2015-08-05 05:34:00</td>\n      <td>constituency</td>\n      <td>neutral</td>\n      <td>constituency</td>\n      <td>S001177</td>\n      <td>153423912663_10151844736532664</td>\n      <td>facebook</td>\n      <td>Occupational Health Nurse  The Department of t...</td>\n      <td>417</td>\n      <td>Gregorio &amp;#x27;Kilili&amp;#x27; Sablan</td>\n      <td>Representative</td>\n      <td>NA</td>\n    </tr>\n    <tr>\n      <th>4625</th>\n      <td>766197111</td>\n      <td>2015-08-05 05:03:00</td>\n      <td>constituency</td>\n      <td>neutral</td>\n      <td>policy</td>\n      <td>S001177</td>\n      <td>153423912663_569279146424342</td>\n      <td>facebook</td>\n      <td>Women and Minorities in STEM Fields Program  T...</td>\n      <td>526</td>\n      <td>Gregorio &amp;#x27;Kilili&amp;#x27; Sablan</td>\n      <td>Representative</td>\n      <td>NA</td>\n    </tr>\n    <tr>\n      <th>4626</th>\n      <td>766197112</td>\n      <td>2015-08-05 05:19:00</td>\n      <td>national</td>\n      <td>neutral</td>\n      <td>policy</td>\n      <td>S001177</td>\n      <td>153423912663_137704976408141</td>\n      <td>facebook</td>\n      <td>Human Resources Specialist - The Department of...</td>\n      <td>612</td>\n      <td>Gregorio &amp;#x27;Kilili&amp;#x27; Sablan</td>\n      <td>Representative</td>\n      <td>NA</td>\n    </tr>\n  </tbody>\n</table>\n</div>"
     },
     "execution_count": 172,
     "metadata": {},
     "output_type": "execute_result"
    }
   ],
   "source": [
    "political_posts[political_posts.estado == 'NA']"
   ]
  },
  {
   "cell_type": "markdown",
   "metadata": {
    "pycharm": {
     "name": "#%% md\n"
    }
   },
   "source": [
    "Según la Constitución de EE.UU., sólo los estados pueden estar representados en el Congreso de los Estados Unidos, por lo que hay territorios que no tienen representación con derecho a voto.\n",
    "En su lugar, los electores del distrito eligen a un delegado sin derecho a voto en la Cámara de Representantes de los Estados Unidos. Y tampoco pueden votar en las elecciones presidenciales.\n",
    "Según la Cámara de Representantes de 2015:\n",
    "- Eleanor Holmes Norton --> District of Columbia\n",
    "- Madeline Bordallo --> Guam\n",
    "- Pedro Pierlusi --> Puerto Rico\n",
    "- Gregorio 'Kilili' Sablan --> Northern Mariana Islands\n"
   ]
  },
  {
   "cell_type": "code",
   "execution_count": 173,
   "metadata": {
    "pycharm": {
     "name": "#%%\n"
    }
   },
   "outputs": [
    {
     "data": {
      "text/plain": "0"
     },
     "execution_count": 173,
     "metadata": {},
     "output_type": "execute_result"
    }
   ],
   "source": [
    "political_posts.loc[political_posts['usuario'] == 'Eleanor Norton', 'estado'] = 'District of Columbia'\n",
    "political_posts.loc[political_posts['usuario'] == 'Madeleine Bordallo', 'estado'] = 'Guam'\n",
    "political_posts.loc[political_posts['usuario'] == 'Pedro Pierluisi', 'estado'] = 'Puerto Rico'\n",
    "political_posts.loc[political_posts['politico_id'] == 'S001177', 'estado'] = 'Northern Mariana Islands'\n",
    "\n",
    "len(political_posts[political_posts.estado == 'NA'])"
   ]
  },
  {
   "cell_type": "code",
   "execution_count": 174,
   "metadata": {
    "pycharm": {
     "name": "#%%\n"
    }
   },
   "outputs": [
    {
     "data": {
      "text/plain": "              promedio_palabras\nmessage                        \npolicy               248.668320\nsupport              206.707926\nattack               203.918605\ninformation          193.548686\nmobilization         187.286822\npersonal             180.459829\nconstituency         164.611842\nother                162.876033\nmedia                145.870036",
      "text/html": "<div>\n<style scoped>\n    .dataframe tbody tr th:only-of-type {\n        vertical-align: middle;\n    }\n\n    .dataframe tbody tr th {\n        vertical-align: top;\n    }\n\n    .dataframe thead th {\n        text-align: right;\n    }\n</style>\n<table border=\"1\" class=\"dataframe\">\n  <thead>\n    <tr style=\"text-align: right;\">\n      <th></th>\n      <th>promedio_palabras</th>\n    </tr>\n    <tr>\n      <th>message</th>\n      <th></th>\n    </tr>\n  </thead>\n  <tbody>\n    <tr>\n      <th>policy</th>\n      <td>248.668320</td>\n    </tr>\n    <tr>\n      <th>support</th>\n      <td>206.707926</td>\n    </tr>\n    <tr>\n      <th>attack</th>\n      <td>203.918605</td>\n    </tr>\n    <tr>\n      <th>information</th>\n      <td>193.548686</td>\n    </tr>\n    <tr>\n      <th>mobilization</th>\n      <td>187.286822</td>\n    </tr>\n    <tr>\n      <th>personal</th>\n      <td>180.459829</td>\n    </tr>\n    <tr>\n      <th>constituency</th>\n      <td>164.611842</td>\n    </tr>\n    <tr>\n      <th>other</th>\n      <td>162.876033</td>\n    </tr>\n    <tr>\n      <th>media</th>\n      <td>145.870036</td>\n    </tr>\n  </tbody>\n</table>\n</div>"
     },
     "execution_count": 174,
     "metadata": {},
     "output_type": "execute_result"
    }
   ],
   "source": [
    "cantidad_de_caracteres_mensaje = political_posts.groupby(['message']).agg(\n",
    "    promedio_palabras =  ('cantidad_caracteres', 'mean'))\n",
    "cantidad_de_caracteres_mensaje.sort_values('promedio_palabras', ascending = False)"
   ]
  },
  {
   "cell_type": "code",
   "execution_count": 175,
   "metadata": {
    "pycharm": {
     "name": "#%%\n"
    }
   },
   "outputs": [
    {
     "data": {
      "text/plain": "505"
     },
     "execution_count": 175,
     "metadata": {},
     "output_type": "execute_result"
    }
   ],
   "source": [
    "political_posts.politico_id.nunique()"
   ]
  },
  {
   "cell_type": "code",
   "execution_count": null,
   "metadata": {
    "pycharm": {
     "name": "#%%\n",
     "is_executing": true
    }
   },
   "outputs": [],
   "source": [
    "def detectar_idioma(text):\n",
    "    try:\n",
    "        return detect(text)\n",
    "    except:\n",
    "        return \"unknown\"\n",
    "\n",
    "political_posts['idioma'] = political_posts['text'].apply(detectar_idioma)\n",
    "political_posts.head()"
   ]
  },
  {
   "cell_type": "markdown",
   "source": [
    "###### Como los nombres de los idiomas están en código, se puede no entender cual es. Por lo tanto, hacemos un join con la siguiente tabla, para tener los nombres completos y entendibles"
   ],
   "metadata": {
    "collapsed": false,
    "pycharm": {
     "name": "#%% md\n"
    }
   }
  },
  {
   "cell_type": "code",
   "execution_count": null,
   "metadata": {
    "pycharm": {
     "name": "#%%\n",
     "is_executing": true
    }
   },
   "outputs": [],
   "source": [
    "file_idiomas = \"../data/idiomas.csv\"\n",
    "idiomas = pd.read_csv(file_idiomas)\n",
    "idiomas.head()"
   ]
  },
  {
   "cell_type": "code",
   "execution_count": null,
   "metadata": {
    "pycharm": {
     "name": "#%%\n",
     "is_executing": true
    }
   },
   "outputs": [],
   "source": [
    "political_posts = pd.merge(political_posts, idiomas, how='left')\n",
    "political_posts.drop('idioma', inplace=True, axis=1)\n",
    "political_posts.language_name.value_counts()"
   ]
  },
  {
   "cell_type": "code",
   "execution_count": null,
   "metadata": {
    "pycharm": {
     "name": "#%%\n",
     "is_executing": true
    }
   },
   "outputs": [],
   "source": [
    "political_posts[political_posts.language_name.isna()].text"
   ]
  },
  {
   "cell_type": "markdown",
   "metadata": {
    "pycharm": {
     "name": "#%% md\n"
    }
   },
   "source": [
    "Se debe a que son links o hay un punto (seguramente haciendo referencia a un reposteo), o hay una fecha."
   ]
  },
  {
   "cell_type": "code",
   "execution_count": null,
   "metadata": {
    "pycharm": {
     "name": "#%%\n",
     "is_executing": true
    }
   },
   "outputs": [],
   "source": [
    "political_posts[political_posts.text == '.']"
   ]
  },
  {
   "cell_type": "code",
   "execution_count": null,
   "metadata": {
    "pycharm": {
     "name": "#%%\n",
     "is_executing": true
    }
   },
   "outputs": [],
   "source": [
    "political_posts[political_posts.text == '2/11/14']"
   ]
  },
  {
   "cell_type": "markdown",
   "metadata": {
    "pycharm": {
     "name": "#%% md\n"
    }
   },
   "source": [
    "Es un mensaje personal, entonces debe tener una conexión con la persona"
   ]
  },
  {
   "cell_type": "code",
   "execution_count": null,
   "metadata": {
    "pycharm": {
     "name": "#%%\n",
     "is_executing": true
    }
   },
   "outputs": [],
   "source": [
    "political_posts_not_english = political_posts[political_posts.language_name != 'English']\n",
    "political_posts_not_english[['text', 'language_name']]"
   ]
  },
  {
   "cell_type": "markdown",
   "metadata": {
    "pycharm": {
     "name": "#%% md\n"
    }
   },
   "source": [
    "Me di cuenta que todos lso textos que aparecían en otro idioma qu eno fuese inglés en la columna 'language name', realmente estaban en inglés, era solo por el nombre de las personas que lo cambiaban"
   ]
  },
  {
   "cell_type": "code",
   "execution_count": null,
   "metadata": {
    "pycharm": {
     "name": "#%%\n",
     "is_executing": true
    }
   },
   "outputs": [],
   "source": [
    "political_posts[\"language_name\"] = np.where(political_posts[\"language_name\"].isna(), \"Desconocido\", political_posts[\"language_name\"])\n",
    "political_posts[\"language_name\"] = np.where((political_posts[\"language_name\"] != 'English') & (political_posts[\"language_name\"] != 'Desconocido') & (political_posts[\"language_name\"] != 'Spanish , Castilian'), \"English\", political_posts[\"language_name\"])\n",
    "posts_español = political_posts[political_posts.language_name == 'Spanish , Castilian']\n",
    "posts_español"
   ]
  },
  {
   "cell_type": "code",
   "execution_count": null,
   "metadata": {
    "pycharm": {
     "name": "#%%\n",
     "is_executing": true
    }
   },
   "outputs": [],
   "source": [
    "posts_español.estado.value_counts()"
   ]
  },
  {
   "cell_type": "markdown",
   "metadata": {
    "pycharm": {
     "name": "#%% md\n"
    }
   },
   "source": [
    "# 5-  Análisis según los tipos de mensajes"
   ]
  },
  {
   "cell_type": "markdown",
   "metadata": {
    "pycharm": {
     "name": "#%% md\n"
    }
   },
   "source": [
    "### Cantidad de mensajes por intencion"
   ]
  },
  {
   "cell_type": "code",
   "execution_count": null,
   "metadata": {
    "pycharm": {
     "name": "#%%\n",
     "is_executing": true
    }
   },
   "outputs": [],
   "source": [
    "political_posts['message'].value_counts()\n",
    "plt.rc('xtick', labelsize=10)\n",
    "plt.rc('ytick', labelsize=10)\n",
    "ax = sns.countplot(data = political_posts, x = 'message',\n",
    "              order = political_posts['message'].value_counts().index)\n",
    "ax.set_xticklabels(ax.get_xticklabels(), rotation=40, ha=\"right\")\n",
    "sns.set(rc={\"figure.figsize\":(5, 2)})\n",
    "ax.set_title('Cantidad de mensajes por intencion')\n",
    "plt.show()"
   ]
  },
  {
   "cell_type": "markdown",
   "source": [
    "Podemos observar que no hay una proporción similar de cada tipo de publicación, sino que hay mas de policy, seguido por personal, y tercero support."
   ],
   "metadata": {
    "collapsed": false,
    "pycharm": {
     "name": "#%% md\n"
    }
   }
  },
  {
   "cell_type": "markdown",
   "metadata": {
    "pycharm": {
     "name": "#%% md\n"
    }
   },
   "source": [
    "### Clasificación de tipos de publicaciones según la audiencia a la que apunta"
   ]
  },
  {
   "cell_type": "code",
   "execution_count": null,
   "metadata": {
    "pycharm": {
     "name": "#%%\n",
     "is_executing": true
    }
   },
   "outputs": [],
   "source": [
    "segun_audiencia = pd.crosstab(political_posts['message'],political_posts['audience']).apply(lambda x: x/x.sum()*100)\n",
    "segun_audiencia"
   ]
  },
  {
   "cell_type": "code",
   "execution_count": null,
   "metadata": {
    "pycharm": {
     "name": "#%%\n",
     "is_executing": true
    }
   },
   "outputs": [],
   "source": [
    "plt.rc('xtick', labelsize=10)\n",
    "plt.rc('ytick', labelsize=10)\n",
    "segun_audiencia[['constituency','national']].plot(kind ='barh', stacked=True,color = (\"#e9a3c9\", \"#a1d76a\"))\n",
    "\n",
    "plt.show()"
   ]
  },
  {
   "cell_type": "markdown",
   "source": [
    "***\n"
   ],
   "metadata": {
    "collapsed": false,
    "pycharm": {
     "name": "#%% md\n"
    }
   }
  },
  {
   "cell_type": "code",
   "execution_count": null,
   "metadata": {
    "pycharm": {
     "name": "#%%\n",
     "is_executing": true
    }
   },
   "outputs": [],
   "source": [
    "political_posts_attack = political_posts[political_posts['message'] == \"attack\"]\n",
    "political_posts_support = political_posts[political_posts['message']==\"support\"]\n",
    "political_posts_policy = political_posts[political_posts['message']==\"policy\"]\n",
    "political_posts_information = political_posts[political_posts['message']==\"information\"]\n",
    "political_posts_mobilization = political_posts[political_posts['message']==\"mobilization\"]\n",
    "political_posts_personal = political_posts[political_posts['message']==\"personal\"]\n",
    "political_posts_constituency = political_posts[political_posts['message']==\"constituency\"]\n",
    "political_posts_media = political_posts[political_posts['message']==\"media\"]\n",
    "political_posts_other = political_posts[political_posts['message']==\"other\"]"
   ]
  },
  {
   "cell_type": "markdown",
   "metadata": {
    "pycharm": {
     "name": "#%% md\n"
    }
   },
   "source": [
    "### De donde salieron las publicaciones segun la intencion de las mimsas"
   ]
  },
  {
   "cell_type": "code",
   "execution_count": null,
   "metadata": {
    "pycharm": {
     "name": "#%%\n",
     "is_executing": true
    }
   },
   "outputs": [],
   "source": [
    "plt.rcParams.update({'figure.figsize':(7.5,7), 'figure.dpi':150})\n",
    "fig, axes = plt.subplots(nrows=3, ncols=3)\n",
    "political_posts_attack.source.value_counts().plot(ax=axes[0,0], kind ='pie', title = 'Posts de ataque',autopct='%1.0f%%', colors = ['steelblue', 'blue'])\n",
    "political_posts_support.source.value_counts().plot(ax=axes[0,1],kind ='pie', title = 'Posts de apoyo',autopct='%1.0f%%', colors = ['steelblue', 'blue'])\n",
    "political_posts_policy.source.value_counts().plot(ax=axes[0,2],kind ='pie', title = 'Posts de politicas',autopct='%1.0f%%', colors = ['blue', 'steelblue'])\n",
    "political_posts_mobilization.source.value_counts().plot(ax=axes[1,0],kind ='pie', title = 'Posts de movilizacion',autopct='%1.0f%%', colors = ['steelblue', 'blue'])\n",
    "political_posts_information.source.value_counts().plot(ax=axes[1,1],kind ='pie', title = 'Posts de info',autopct='%1.0f%%', colors = ['steelblue', 'blue'])\n",
    "political_posts_personal.source.value_counts().plot(ax=axes[1,2],kind ='pie', title = 'Posts personales',autopct='%1.0f%%', colors = [ 'blue', 'steelblue',])\n",
    "political_posts_constituency.source.value_counts().plot(ax=axes[2,0],kind ='pie', title = 'Posts circunscriptos',autopct='%1.0f%%', colors = ['steelblue', 'blue'])\n",
    "political_posts_media.source.value_counts().plot(ax=axes[2,1],kind ='pie', title = 'Posts hacia media',autopct='%1.0f%%', colors = ['steelblue', 'blue'])\n",
    "political_posts_other.source.value_counts().plot(ax=axes[2,2],kind ='pie', title = 'Posts otros',autopct='%1.0f%%', colors = [ 'blue', 'steelblue'])\n",
    "fig.suptitle('Las fuentes de los..', fontsize=12)\n",
    "plt.show()"
   ]
  },
  {
   "cell_type": "markdown",
   "source": [
    "## Nube de palabras: identificar las mas usadas"
   ],
   "metadata": {
    "collapsed": false,
    "pycharm": {
     "name": "#%% md\n"
    }
   }
  },
  {
   "cell_type": "markdown",
   "metadata": {
    "pycharm": {
     "name": "#%% md\n"
    }
   },
   "source": [
    "#### Attack"
   ]
  },
  {
   "cell_type": "code",
   "execution_count": null,
   "metadata": {
    "pycharm": {
     "name": "#%%\n",
     "is_executing": true
    }
   },
   "outputs": [],
   "source": [
    "wordcloud = WordCloud(width = 800, height = 800,\n",
    "            background_color ='white',\n",
    "            min_font_size = 10).generate(str(political_posts_attack.text))\n",
    "\n",
    "plt.figure(figsize = (5, 5), facecolor = None)\n",
    "plt.imshow(wordcloud)\n",
    "plt.axis(\"off\")\n",
    "plt.show()"
   ]
  },
  {
   "cell_type": "markdown",
   "metadata": {
    "pycharm": {
     "name": "#%% md\n"
    }
   },
   "source": [
    "Las palabras más utilizadas en estas publicaciones, refieren a politicas o programas implementados durante la presidencia corriente (de Obama) y el nombre del dirigente es mencionado repetidas veces. Y también refieren a problemas o cuestiones del momento.\n",
    "Algunas palabras que aparecen con ciertas connotaciones negativas son: costs, higher, stuck, spawning.\n",
    "Es curioso que también aparece Venezuela, dentro de lso mensajes de ataque como critica (elemento que se podria transpolar a la situacion argentina)"
   ]
  },
  {
   "cell_type": "markdown",
   "metadata": {
    "pycharm": {
     "name": "#%% md\n"
    }
   },
   "source": [
    "### Support"
   ]
  },
  {
   "cell_type": "code",
   "execution_count": null,
   "metadata": {
    "pycharm": {
     "name": "#%%\n",
     "is_executing": true
    }
   },
   "outputs": [],
   "source": [
    "wordcloud = WordCloud(width = 800, height = 800,\n",
    "            background_color ='white',\n",
    "            min_font_size = 10).generate(str(political_posts_support.text))\n",
    "\n",
    "plt.figure(figsize = (5, 5), facecolor = None)\n",
    "plt.imshow(wordcloud)\n",
    "plt.axis(\"off\")\n",
    "plt.show()"
   ]
  },
  {
   "cell_type": "markdown",
   "metadata": {
    "pycharm": {
     "name": "#%% md\n"
    }
   },
   "source": [
    "En los mensajes de apoyo a otros politicos, podemos encontrar palabaras con connotaciones mas positivas y con intenciones de \"unir\" o \"amigar\": join, please,  great, vote, share, applaud.\n",
    "Y tambien en visperas de las eleccioes del 2016, vemos que aparece \"Clinton\", con referencia al apoyo a su candidatura en las proximas elecciones."
   ]
  },
  {
   "cell_type": "markdown",
   "metadata": {
    "pycharm": {
     "name": "#%% md\n"
    }
   },
   "source": [
    "### Mobilization"
   ]
  },
  {
   "cell_type": "code",
   "execution_count": null,
   "metadata": {
    "pycharm": {
     "name": "#%%\n",
     "is_executing": true
    }
   },
   "outputs": [],
   "source": [
    "wordcloud = WordCloud(width = 800, height = 800,\n",
    "            background_color ='white',\n",
    "            min_font_size = 10).generate(str(political_posts_mobilization.text))\n",
    "\n",
    "plt.figure(figsize = (5, 5), facecolor = None)\n",
    "plt.imshow(wordcloud)\n",
    "plt.axis(\"off\")\n",
    "plt.show()"
   ]
  },
  {
   "cell_type": "markdown",
   "metadata": {
    "pycharm": {
     "name": "#%% md\n"
    }
   },
   "source": [
    "Las palabras que mas aparecen estan relacionadas a \"llamados de ayuda\" o \"llamados a colaborar o a sumarse\": help, rt, together, want, keep.\n",
    "Y tambien aparecen situaciones que requieren el apoyo de la sociedad y de su movilizacion para que todos se enteren como la crisis social que sucedia en Nigeria, con los secuestros qeu pasaban y los atentados.\n",
    "Ademas, aparece el nombre de un sitio de noticias conocido: BBCWorld"
   ]
  },
  {
   "cell_type": "markdown",
   "metadata": {
    "pycharm": {
     "name": "#%% md\n"
    }
   },
   "source": [
    "#### Policy"
   ]
  },
  {
   "cell_type": "code",
   "execution_count": null,
   "metadata": {
    "pycharm": {
     "name": "#%%\n",
     "is_executing": true
    }
   },
   "outputs": [],
   "source": [
    "wordcloud = WordCloud(width = 800, height = 800,\n",
    "            background_color ='white',\n",
    "            min_font_size = 10).generate(str(political_posts_policy.text))\n",
    "\n",
    "plt.figure(figsize = (5, 5), facecolor = None)\n",
    "plt.imshow(wordcloud)\n",
    "plt.axis(\"off\")\n",
    "plt.show()"
   ]
  },
  {
   "cell_type": "markdown",
   "metadata": {
    "pycharm": {
     "name": "#%% md\n"
    }
   },
   "source": [
    "En este caso aparecen bastantes nombres de politicos y se refiere a varias palabras relacionadas al sistema politico y al proceso de creacion de nuevas leyes"
   ]
  },
  {
   "cell_type": "markdown",
   "metadata": {
    "pycharm": {
     "name": "#%% md\n"
    }
   },
   "source": [
    "#### Personal"
   ]
  },
  {
   "cell_type": "code",
   "execution_count": null,
   "metadata": {
    "pycharm": {
     "name": "#%%\n",
     "is_executing": true
    }
   },
   "outputs": [],
   "source": [
    "wordcloud = WordCloud(width = 800, height = 800,\n",
    "            background_color ='white',\n",
    "            min_font_size = 10).generate(str(political_posts_personal.text))\n",
    "\n",
    "plt.figure(figsize = (5, 5), facecolor = None)\n",
    "plt.imshow(wordcloud)\n",
    "plt.axis(\"off\")\n",
    "plt.show()"
   ]
  },
  {
   "cell_type": "markdown",
   "metadata": {
    "pycharm": {
     "name": "#%% md\n"
    }
   },
   "source": [
    "### Information"
   ]
  },
  {
   "cell_type": "code",
   "execution_count": null,
   "metadata": {
    "pycharm": {
     "name": "#%%\n",
     "is_executing": true
    }
   },
   "outputs": [],
   "source": [
    "wordcloud = WordCloud(width = 800, height = 800,\n",
    "            background_color ='white',\n",
    "            min_font_size = 10).generate(str(political_posts_information.text))\n",
    "\n",
    "plt.figure(figsize = (5, 5), facecolor = None)\n",
    "plt.imshow(wordcloud)\n",
    "plt.axis(\"off\")\n",
    "plt.show()"
   ]
  },
  {
   "cell_type": "markdown",
   "metadata": {
    "pycharm": {
     "name": "#%% md\n"
    }
   },
   "source": [
    "En los textos informativos, se utilizan palabras de \"notica\": week, info, release, hall + town. Tambien aparece el nombre de cuentas oficiales informativas del gobierno(USDOTFRA: Federal Railroad Administration)"
   ]
  },
  {
   "cell_type": "markdown",
   "metadata": {
    "pycharm": {
     "name": "#%% md\n"
    }
   },
   "source": [
    "#### Constituency"
   ]
  },
  {
   "cell_type": "code",
   "execution_count": null,
   "metadata": {
    "pycharm": {
     "name": "#%%\n",
     "is_executing": true
    }
   },
   "outputs": [],
   "source": [
    "wordcloud = WordCloud(width = 800, height = 800,\n",
    "            background_color ='white',\n",
    "            min_font_size = 10).generate(str(political_posts_constituency.text))\n",
    "\n",
    "plt.figure(figsize = (5, 5), facecolor = None)\n",
    "plt.imshow(wordcloud)\n",
    "plt.axis(\"off\")\n",
    "plt.show()"
   ]
  },
  {
   "cell_type": "markdown",
   "metadata": {
    "pycharm": {
     "name": "#%% md\n"
    }
   },
   "source": [
    "Es mas dificil identificiar, ya que consituency refiere a mensajes con la intenncion de apuntar al ambito \"local\" del politico.\n",
    "Ciertas palabras aprticulaes son: nombres de estados, farm, parks."
   ]
  },
  {
   "cell_type": "markdown",
   "metadata": {
    "pycharm": {
     "name": "#%% md\n"
    }
   },
   "source": [
    "#### Media"
   ]
  },
  {
   "cell_type": "code",
   "execution_count": null,
   "metadata": {
    "pycharm": {
     "name": "#%%\n",
     "is_executing": true
    }
   },
   "outputs": [],
   "source": [
    "wordcloud = WordCloud(width = 800, height = 800,\n",
    "            background_color ='white',\n",
    "            min_font_size = 10).generate(str(political_posts_media.text))\n",
    "\n",
    "plt.figure(figsize = (5, 5), facecolor = None)\n",
    "plt.imshow(wordcloud)\n",
    "plt.axis(\"off\")\n",
    "plt.show()"
   ]
  },
  {
   "cell_type": "markdown",
   "metadata": {
    "pycharm": {
     "name": "#%% md\n"
    }
   },
   "source": [
    "Cuando lso mensajes implican una relacion con los medios de comunicacion, aprecen los nombres de lso portales de noticias, nombres de periodistas, y palabras como:show, coffee, radio, article, morning, shortly."
   ]
  },
  {
   "cell_type": "markdown",
   "metadata": {
    "pycharm": {
     "name": "#%% md\n"
    }
   },
   "source": [
    "#### Other"
   ]
  },
  {
   "cell_type": "code",
   "execution_count": null,
   "metadata": {
    "pycharm": {
     "name": "#%%\n",
     "is_executing": true
    }
   },
   "outputs": [],
   "source": [
    "wordcloud = WordCloud(width = 800, height = 800,\n",
    "            background_color ='white',\n",
    "            min_font_size = 10).generate(str(political_posts_other.text))\n",
    "\n",
    "plt.figure(figsize = (5, 5), facecolor = None)\n",
    "plt.imshow(wordcloud)\n",
    "plt.axis(\"off\")\n",
    "plt.show()"
   ]
  },
  {
   "cell_type": "markdown",
   "metadata": {
    "pycharm": {
     "name": "#%% md\n"
    }
   },
   "source": [
    "Podemos ver como, se tratan temas varios, y temas que no implican una confrontacion o la neceisdad de apoyo o movilizacion. Palabras: American, celebraiting, bday, photo. Y tambien aparece el nombre de Neil Amstrong, y la palabra armstrong, que seguramente se debio a que la muestra de las publicaciones se habra tomado en alguna fecha en relacion con eso."
   ]
  },
  {
   "cell_type": "markdown",
   "metadata": {
    "pycharm": {
     "name": "#%% md\n"
    }
   },
   "source": [
    "## Analizar el sesgo en relacion con los tipos de publicaciones"
   ]
  },
  {
   "cell_type": "code",
   "execution_count": null,
   "metadata": {
    "pycharm": {
     "name": "#%%\n",
     "is_executing": true
    }
   },
   "outputs": [],
   "source": [
    "plt.rcParams.update({'figure.figsize':(7.5,7), 'figure.dpi':110})\n",
    "fig, axes = plt.subplots(nrows=1, ncols=2)\n",
    "political_posts_attack.bias.value_counts().plot(ax=axes[0], kind ='pie', title= 'Sesgo de los posts de ataque')\n",
    "political_posts_support.bias.value_counts().plot(ax=axes[1],kind ='pie', title= 'Sesgo de los posts apoyo')\n",
    "plt.show()"
   ]
  },
  {
   "cell_type": "code",
   "execution_count": null,
   "outputs": [],
   "source": [
    "segun_sesgo = pd.crosstab(political_posts['message'],political_posts['bias']).apply(lambda x: x/x.sum()*100)\n",
    "segun_sesgo"
   ],
   "metadata": {
    "collapsed": false,
    "pycharm": {
     "name": "#%%\n",
     "is_executing": true
    }
   }
  },
  {
   "cell_type": "code",
   "execution_count": null,
   "outputs": [],
   "source": [
    "plt.rcParams.update({'figure.figsize':(7,4), 'figure.dpi':90})\n",
    "plt.rc('xtick', labelsize=10)\n",
    "plt.rc('ytick', labelsize=10)\n",
    "segun_sesgo[['neutral','partisan']].plot(kind ='barh', stacked=True,color = (\"#e9a3c9\", \"#a1d76a\"))\n",
    "\n",
    "plt.show()"
   ],
   "metadata": {
    "collapsed": false,
    "pycharm": {
     "name": "#%%\n",
     "is_executing": true
    }
   }
  },
  {
   "cell_type": "markdown",
   "metadata": {
    "pycharm": {
     "name": "#%% md\n"
    }
   },
   "source": []
  },
  {
   "cell_type": "markdown",
   "source": [
    "### Ver si hay influencia por parte del: Estado"
   ],
   "metadata": {
    "collapsed": false,
    "pycharm": {
     "name": "#%% md\n"
    }
   }
  },
  {
   "cell_type": "code",
   "execution_count": null,
   "metadata": {
    "pycharm": {
     "name": "#%%\n",
     "is_executing": true
    }
   },
   "outputs": [],
   "source": [
    "segun_estado = pd.crosstab(political_posts['estado'],political_posts['message']).apply(lambda x: x/x.sum()*100)\n",
    "segun_estado"
   ]
  },
  {
   "cell_type": "code",
   "execution_count": null,
   "metadata": {
    "pycharm": {
     "name": "#%%\n",
     "is_executing": true
    }
   },
   "outputs": [],
   "source": [
    "segun_estado[segun_estado.attack == max(segun_estado.attack)]"
   ]
  },
  {
   "cell_type": "code",
   "execution_count": null,
   "metadata": {
    "pycharm": {
     "name": "#%%\n",
     "is_executing": true
    }
   },
   "outputs": [],
   "source": [
    "estado_mensaje = pd.crosstab(political_posts['message'],political_posts['estado']).apply(lambda x: x/x.sum()*100)\n",
    "estado_mensaje"
   ]
  },
  {
   "cell_type": "markdown",
   "source": [
    "No encuentro relación fuerte, además de que no sabemos si las muestra se tomó de forma representativa y/o proporcional"
   ],
   "metadata": {
    "collapsed": false,
    "pycharm": {
     "name": "#%% md\n"
    }
   }
  },
  {
   "cell_type": "markdown",
   "metadata": {
    "pycharm": {
     "name": "#%% md\n"
    }
   },
   "source": [
    "#### Ver si hay influencia por parte del:Idioma"
   ]
  },
  {
   "cell_type": "code",
   "execution_count": null,
   "metadata": {
    "pycharm": {
     "name": "#%%\n",
     "is_executing": true
    }
   },
   "outputs": [],
   "source": [
    "español_mensaje = posts_español.groupby(['language_name', 'message']).agg(\n",
    "    cantidad_de_posts =  ('unit_id', 'count'))\n",
    "español_mensaje"
   ]
  },
  {
   "cell_type": "code",
   "execution_count": null,
   "metadata": {
    "pycharm": {
     "name": "#%%\n",
     "is_executing": true
    }
   },
   "outputs": [],
   "source": [
    "idiomas_mensaje = political_posts.groupby(['language_name', 'message']).agg(\n",
    "    cantidad_de_posts =  ('unit_id', 'count')).reset_index()\n",
    "idiomas_mensaje"
   ]
  },
  {
   "cell_type": "code",
   "execution_count": null,
   "metadata": {
    "pycharm": {
     "name": "#%%\n",
     "is_executing": true
    }
   },
   "outputs": [],
   "source": [
    "idiomas_mensaje.pivot_table( values='cantidad_de_posts', index=['message'],columns=['language_name']).apply(lambda x: x/x.sum() * 100)"
   ]
  },
  {
   "cell_type": "markdown",
   "source": [
    "Por pate del idioma, tampoco encuentro influencia, ya que parecen comportarse de manera similar"
   ],
   "metadata": {
    "collapsed": false,
    "pycharm": {
     "name": "#%% md\n"
    }
   }
  },
  {
   "cell_type": "markdown",
   "source": [
    "# 6- Creación de variables numéricas en relación a lo analizado antes (palabras que aparecen, y cantidad de veces que aparece algún caracter especial)"
   ],
   "metadata": {
    "collapsed": false,
    "pycharm": {
     "name": "#%% md\n"
    }
   }
  },
  {
   "cell_type": "markdown",
   "source": [
    "## Cantidad de arrobas\n",
    "Para ver la mención de otras personas/usuarios"
   ],
   "metadata": {
    "collapsed": false,
    "pycharm": {
     "name": "#%% md\n"
    }
   }
  },
  {
   "cell_type": "code",
   "execution_count": null,
   "outputs": [],
   "source": [
    "political_posts['cantidad_arrobas'] = political_posts.text.str.count(\"@\")\n",
    "political_posts.head()"
   ],
   "metadata": {
    "collapsed": false,
    "pycharm": {
     "name": "#%%\n",
     "is_executing": true
    }
   }
  },
  {
   "cell_type": "markdown",
   "source": [
    "## Cantidad hashtags\n",
    "Paar ver la posible influencia de la utilización de hashtag que quizás son tendencias o algo similar"
   ],
   "metadata": {
    "collapsed": false,
    "pycharm": {
     "name": "#%% md\n"
    }
   }
  },
  {
   "cell_type": "code",
   "execution_count": null,
   "outputs": [],
   "source": [
    "political_posts['cantidad_hashtag'] = political_posts.text.str.count(\"#\")\n",
    "political_posts.head()"
   ],
   "metadata": {
    "collapsed": false,
    "pycharm": {
     "name": "#%%\n",
     "is_executing": true
    }
   }
  },
  {
   "cell_type": "markdown",
   "source": [
    "## Tiene Obama\n",
    "Relacionado a las palabras que aparecieron en la nube de palabras"
   ],
   "metadata": {
    "collapsed": false,
    "pycharm": {
     "name": "#%% md\n"
    }
   }
  },
  {
   "cell_type": "code",
   "execution_count": null,
   "outputs": [],
   "source": [
    "political_posts['cantidad_obama'] = political_posts.text.str.count(\"[Oo]bama\")\n",
    "political_posts['tiene_obama'] = np.where(political_posts.cantidad_obama >0, 1, 0)\n",
    "political_posts.drop(['cantidad_obama'], inplace=True, axis = 1)\n",
    "political_posts.head()"
   ],
   "metadata": {
    "collapsed": false,
    "pycharm": {
     "name": "#%%\n",
     "is_executing": true
    }
   }
  },
  {
   "cell_type": "markdown",
   "source": [
    "## Tiene Obamacare\n",
    "Relacionado a las palabras que aparecieron en la nube de palabras"
   ],
   "metadata": {
    "collapsed": false,
    "pycharm": {
     "name": "#%% md\n"
    }
   }
  },
  {
   "cell_type": "code",
   "execution_count": null,
   "outputs": [],
   "source": [
    "political_posts['cantidad_obamacare'] = political_posts.text.str.count(\"[Oo]bamacare\")\n",
    "political_posts['tiene_obamacare'] = np.where(political_posts.cantidad_obamacare >0, 1, 0)\n",
    "political_posts.drop(['cantidad_obamacare'], inplace=True, axis = 1)\n",
    "political_posts.head()"
   ],
   "metadata": {
    "collapsed": false,
    "pycharm": {
     "name": "#%%\n",
     "is_executing": true
    }
   }
  },
  {
   "cell_type": "markdown",
   "source": [
    "## Tiene costs\n",
    "Relacionado a las palabras que aparecieron en la nube de palabras"
   ],
   "metadata": {
    "collapsed": false,
    "pycharm": {
     "name": "#%% md\n"
    }
   }
  },
  {
   "cell_type": "code",
   "execution_count": null,
   "outputs": [],
   "source": [
    "political_posts['cantidad_costs'] = political_posts.text.str.count(\"[Cc]osts\")\n",
    "political_posts['tiene_costs'] = np.where(political_posts.cantidad_costs >0, 1, 0)\n",
    "political_posts.drop(['cantidad_costs'], inplace=True, axis = 1)\n",
    "political_posts.head()"
   ],
   "metadata": {
    "collapsed": false,
    "pycharm": {
     "name": "#%%\n",
     "is_executing": true
    }
   }
  },
  {
   "cell_type": "markdown",
   "source": [
    "## Tiene Venezuela\n",
    "Relacionado a las palabras que aparecieron en la nube de palabras"
   ],
   "metadata": {
    "collapsed": false,
    "pycharm": {
     "name": "#%% md\n"
    }
   }
  },
  {
   "cell_type": "code",
   "execution_count": null,
   "outputs": [],
   "source": [
    "political_posts['cantidad_venezuela'] = political_posts.text.str.count(\"[Vv]enezuela\")\n",
    "political_posts['tiene_venezuela'] = np.where(political_posts.cantidad_venezuela >0, 1, 0)\n",
    "political_posts.drop(['cantidad_venezuela'], inplace=True, axis = 1)\n",
    "political_posts.head()"
   ],
   "metadata": {
    "collapsed": false,
    "pycharm": {
     "name": "#%%\n",
     "is_executing": true
    }
   }
  },
  {
   "cell_type": "markdown",
   "source": [
    "## Tiene Demandar\n",
    "Relacionado a las palabras que aparecieron en la nube de palabras"
   ],
   "metadata": {
    "collapsed": false,
    "pycharm": {
     "name": "#%% md\n"
    }
   }
  },
  {
   "cell_type": "code",
   "execution_count": null,
   "outputs": [],
   "source": [
    "political_posts['cantidad_demandar'] = political_posts.text.str.count(\"[Dd]emandar\")\n",
    "political_posts['tiene_demandar'] = np.where(political_posts.cantidad_demandar >0, 1, 0)\n",
    "political_posts.drop(['cantidad_demandar'], inplace=True, axis = 1)\n",
    "political_posts.head()"
   ],
   "metadata": {
    "collapsed": false,
    "pycharm": {
     "name": "#%%\n",
     "is_executing": true
    }
   }
  },
  {
   "cell_type": "markdown",
   "source": [
    "## Tiene Remember\n",
    "Relacionado a las palabras que aparecieron en la nube de palabras"
   ],
   "metadata": {
    "collapsed": false,
    "pycharm": {
     "name": "#%% md\n"
    }
   }
  },
  {
   "cell_type": "code",
   "execution_count": null,
   "outputs": [],
   "source": [
    "political_posts['cantidad_remember'] = political_posts.text.str.count(\"[Rr]emember\")\n",
    "political_posts['tiene_remember'] = np.where(political_posts.cantidad_remember >0, 1, 0)\n",
    "political_posts.drop(['cantidad_remember'], inplace=True, axis = 1)\n",
    "political_posts.head()"
   ],
   "metadata": {
    "collapsed": false,
    "pycharm": {
     "name": "#%%\n",
     "is_executing": true
    }
   }
  },
  {
   "cell_type": "markdown",
   "source": [
    "## Tiene Stuck\n",
    "Relacionado a las palabras que aparecieron en la nube de palabras"
   ],
   "metadata": {
    "collapsed": false,
    "pycharm": {
     "name": "#%% md\n"
    }
   }
  },
  {
   "cell_type": "code",
   "execution_count": null,
   "outputs": [],
   "source": [
    "political_posts['cantidad_stuck'] = political_posts.text.str.count(\"[Ss]tuck\")\n",
    "political_posts['tiene_stuck'] = np.where(political_posts.cantidad_stuck >0, 1, 0)\n",
    "political_posts.drop(['cantidad_stuck'], inplace=True, axis = 1)\n",
    "political_posts.head()"
   ],
   "metadata": {
    "collapsed": false,
    "pycharm": {
     "name": "#%%\n",
     "is_executing": true
    }
   }
  },
  {
   "cell_type": "markdown",
   "source": [
    "## Tiene Higher\n",
    "Relacionado a las palabras que aparecieron en la nube de palabras"
   ],
   "metadata": {
    "collapsed": false,
    "pycharm": {
     "name": "#%% md\n"
    }
   }
  },
  {
   "cell_type": "code",
   "execution_count": null,
   "outputs": [],
   "source": [
    "political_posts['cantidad_higher'] = political_posts.text.str.count(\"[Hh]igher\")\n",
    "political_posts['tiene_higher'] = np.where(political_posts.cantidad_higher >0, 1, 0)\n",
    "political_posts.drop(['cantidad_higher'], inplace=True, axis = 1)\n",
    "political_posts.head()"
   ],
   "metadata": {
    "collapsed": false,
    "pycharm": {
     "name": "#%%\n",
     "is_executing": true
    }
   }
  },
  {
   "cell_type": "markdown",
   "source": [
    "## Tiene Spawning\n",
    "Relacionado a las palabras que aparecieron en la nube de palabras"
   ],
   "metadata": {
    "collapsed": false,
    "pycharm": {
     "name": "#%% md\n"
    }
   }
  },
  {
   "cell_type": "code",
   "execution_count": null,
   "outputs": [],
   "source": [
    "political_posts['cantidad_spawning'] = political_posts.text.str.count(\"[Ss]pawning\")\n",
    "political_posts['tiene_spawning'] = np.where(political_posts.cantidad_spawning >0, 1, 0)\n",
    "political_posts.drop(['cantidad_spawning'], inplace=True, axis = 1)\n",
    "political_posts.head()"
   ],
   "metadata": {
    "collapsed": false,
    "pycharm": {
     "name": "#%%\n",
     "is_executing": true
    }
   }
  },
  {
   "cell_type": "markdown",
   "source": [
    "## Tiene Please\n",
    "Relacionado a las palabras que aparecieron en la nube de palabras"
   ],
   "metadata": {
    "collapsed": false,
    "pycharm": {
     "name": "#%% md\n"
    }
   }
  },
  {
   "cell_type": "code",
   "execution_count": null,
   "outputs": [],
   "source": [
    "political_posts['cantidad_please'] = political_posts.text.str.count(\"[Pp]lease\")\n",
    "political_posts['tiene_please'] = np.where(political_posts.cantidad_please >0, 1, 0)\n",
    "political_posts.drop(['cantidad_please'], inplace=True, axis = 1)\n",
    "political_posts.head()"
   ],
   "metadata": {
    "collapsed": false,
    "pycharm": {
     "name": "#%%\n",
     "is_executing": true
    }
   }
  },
  {
   "cell_type": "markdown",
   "source": [
    "## Tiene Join\n",
    "Relacionado a las palabras que aparecieron en la nube de palabras"
   ],
   "metadata": {
    "collapsed": false,
    "pycharm": {
     "name": "#%% md\n"
    }
   }
  },
  {
   "cell_type": "code",
   "execution_count": null,
   "outputs": [],
   "source": [
    "political_posts['cantidad_join'] = political_posts.text.str.count(\"[Jj]oin\")\n",
    "political_posts['tiene_join'] = np.where(political_posts.cantidad_join >0, 1, 0)\n",
    "political_posts.drop(['cantidad_join'], inplace=True, axis = 1)\n",
    "political_posts.head()"
   ],
   "metadata": {
    "collapsed": false,
    "pycharm": {
     "name": "#%%\n",
     "is_executing": true
    }
   }
  },
  {
   "cell_type": "markdown",
   "source": [
    "## Tiene Great\n",
    "Relacionado a las palabras que aparecieron en la nube de palabras"
   ],
   "metadata": {
    "collapsed": false,
    "pycharm": {
     "name": "#%% md\n"
    }
   }
  },
  {
   "cell_type": "code",
   "execution_count": null,
   "outputs": [],
   "source": [
    "political_posts['cantidad_great'] = political_posts.text.str.count(\"[Gg]reat\")\n",
    "political_posts['tiene_great'] = np.where(political_posts.cantidad_great >0, 1, 0)\n",
    "political_posts.drop(['cantidad_great'], inplace=True, axis = 1)\n",
    "political_posts.head()"
   ],
   "metadata": {
    "collapsed": false,
    "pycharm": {
     "name": "#%%\n",
     "is_executing": true
    }
   }
  },
  {
   "cell_type": "markdown",
   "source": [
    "## Tiene Vote\n",
    "Relacionado a las palabras que aparecieron en la nube de palabras"
   ],
   "metadata": {
    "collapsed": false,
    "pycharm": {
     "name": "#%% md\n"
    }
   }
  },
  {
   "cell_type": "code",
   "execution_count": null,
   "outputs": [],
   "source": [
    "political_posts['cantidad_vote'] = political_posts.text.str.count(\"[Vv]ote\")\n",
    "political_posts['tiene_vote'] = np.where(political_posts.cantidad_vote >0, 1, 0)\n",
    "political_posts.drop(['cantidad_vote'], inplace=True, axis = 1)\n",
    "political_posts.head()"
   ],
   "metadata": {
    "collapsed": false,
    "pycharm": {
     "name": "#%%\n",
     "is_executing": true
    }
   }
  },
  {
   "cell_type": "markdown",
   "source": [
    "## Tiene Share\n",
    "Relacionado a las palabras que aparecieron en la nube de palabras"
   ],
   "metadata": {
    "collapsed": false,
    "pycharm": {
     "name": "#%% md\n"
    }
   }
  },
  {
   "cell_type": "code",
   "execution_count": null,
   "outputs": [],
   "source": [
    "political_posts['cantidad_share'] = political_posts.text.str.count(\"[Ss]hare\")\n",
    "political_posts['tiene_share'] = np.where(political_posts.cantidad_share >0, 1, 0)\n",
    "political_posts.drop(['cantidad_share'], inplace=True, axis = 1)\n",
    "political_posts.head()"
   ],
   "metadata": {
    "collapsed": false,
    "pycharm": {
     "name": "#%%\n",
     "is_executing": true
    }
   }
  },
  {
   "cell_type": "markdown",
   "source": [
    "## Tiene Applaud\n",
    "Relacionado a las palabras que aparecieron en la nube de palabras"
   ],
   "metadata": {
    "collapsed": false,
    "pycharm": {
     "name": "#%% md\n"
    }
   }
  },
  {
   "cell_type": "code",
   "execution_count": null,
   "outputs": [],
   "source": [
    "political_posts['cantidad_applaud'] = political_posts.text.str.count(\"[Aa]pplaud\")\n",
    "political_posts['tiene_applaud'] = np.where(political_posts.cantidad_applaud >0, 1, 0)\n",
    "political_posts.drop(['cantidad_applaud'], inplace=True, axis = 1)\n",
    "political_posts.head()"
   ],
   "metadata": {
    "collapsed": false,
    "pycharm": {
     "name": "#%%\n",
     "is_executing": true
    }
   }
  },
  {
   "cell_type": "markdown",
   "source": [
    "## Tiene Clinton\n",
    "Relacionado a las palabras que aparecieron en la nube de palabras"
   ],
   "metadata": {
    "collapsed": false,
    "pycharm": {
     "name": "#%% md\n"
    }
   }
  },
  {
   "cell_type": "code",
   "execution_count": null,
   "outputs": [],
   "source": [
    "political_posts['cantidad_clinton'] = political_posts.text.str.count(\"[Cc]linton\")\n",
    "political_posts['tiene_clinton'] = np.where(political_posts.cantidad_clinton >0, 1, 0)\n",
    "political_posts.drop(['cantidad_clinton'], inplace=True, axis = 1)\n",
    "political_posts.head()"
   ],
   "metadata": {
    "collapsed": false,
    "pycharm": {
     "name": "#%%\n",
     "is_executing": true
    }
   }
  },
  {
   "cell_type": "markdown",
   "source": [
    "# 7- Me quedo con las columnas que considero relevantes y con los posts de ataque y apoyo, y guardo la tabla\n",
    "Decidí quedarme con los de ataque y apoyo para tener un objetivo polarizado y \"binario\""
   ],
   "metadata": {
    "collapsed": false,
    "pycharm": {
     "name": "#%% md\n"
    }
   }
  },
  {
   "cell_type": "code",
   "execution_count": null,
   "outputs": [],
   "source": [
    "political_posts.columns"
   ],
   "metadata": {
    "collapsed": false,
    "pycharm": {
     "name": "#%%\n",
     "is_executing": true
    }
   }
  },
  {
   "cell_type": "code",
   "execution_count": null,
   "outputs": [],
   "source": [
    "columnas = ['unit_id', 'audience', 'bias', 'message', 'source', 'cantidad_caracteres', 'cargo',\n",
    "            'language_name', 'cantidad_arrobas', 'cantidad_hashtag', 'tiene_obama', 'tiene_obamacare', 'tiene_costs',\n",
    "            'tiene_venezuela', 'tiene_demandar', 'tiene_remember', 'tiene_stuck', 'tiene_higher', 'tiene_spawning',\n",
    "            'tiene_please', 'tiene_join', 'tiene_great', 'tiene_vote', 'tiene_share', 'tiene_applaud', 'tiene_clinton']\n",
    "attack_suport = political_posts[(political_posts['message'] == 'attack') | (political_posts['message'] == 'support') ]\n",
    "attack_suport.to_csv(\"../data/clean_political_social_media.csv\", index=False, columns = columnas)"
   ],
   "metadata": {
    "collapsed": false,
    "pycharm": {
     "name": "#%%\n",
     "is_executing": true
    }
   }
  },
  {
   "cell_type": "code",
   "execution_count": null,
   "outputs": [],
   "source": [
    "df = pd.read_csv(\"../data/clean_political_social_media.csv\")\n",
    "df.head()"
   ],
   "metadata": {
    "collapsed": false,
    "pycharm": {
     "name": "#%%\n",
     "is_executing": true
    }
   }
  },
  {
   "cell_type": "markdown",
   "source": [
    "# 8- A modo de resumen: para recordar"
   ],
   "metadata": {
    "collapsed": false,
    "pycharm": {
     "name": "#%% md\n"
    }
   }
  },
  {
   "cell_type": "code",
   "execution_count": null,
   "outputs": [],
   "source": [
    "segun_audiencia_2 = pd.crosstab(df['message'],df['audience']).apply(lambda x: x/x.sum()*100)\n",
    "segun_audiencia_2"
   ],
   "metadata": {
    "collapsed": false,
    "pycharm": {
     "name": "#%%\n",
     "is_executing": true
    }
   }
  },
  {
   "cell_type": "markdown",
   "source": [
    "No parecería haber una influencia muy marcada con respecto a la audiencia, aunque en los de ataque hay un poquito mas de nacional"
   ],
   "metadata": {
    "collapsed": false,
    "pycharm": {
     "name": "#%% md\n"
    }
   }
  },
  {
   "cell_type": "code",
   "execution_count": null,
   "outputs": [],
   "source": [
    "plt.rcParams.update({'figure.figsize':(7,4), 'figure.dpi':90})\n",
    "plt.rc('xtick', labelsize=10)\n",
    "plt.rc('ytick', labelsize=10)\n",
    "ax = segun_audiencia_2[['constituency','national']].plot(kind ='barh', stacked=True,color = (\"#e9a3c9\", \"#a1d76a\"))\n",
    "ax.set_title('Audiencia según intencion')\n",
    "plt.show()"
   ],
   "metadata": {
    "collapsed": false,
    "pycharm": {
     "name": "#%%\n",
     "is_executing": true
    }
   }
  },
  {
   "cell_type": "code",
   "execution_count": null,
   "outputs": [],
   "source": [
    "plt.rcParams.update({'figure.figsize':(7.5,7), 'figure.dpi':100})\n",
    "\n",
    "fig, axes = plt.subplots(nrows=1, ncols=2)\n",
    "political_posts_attack.source.value_counts().plot(ax=axes[0], kind ='pie', title = 'Fuente de los posts de ataque',colors = ['steelblue', 'blue'])\n",
    "political_posts_support.source.value_counts().plot(ax=axes[1],kind ='pie', title = 'Fuente de los posts de apoyo',colors = ['steelblue', 'blue'])\n",
    "plt.show()\n",
    "\n",
    "fig, axes = plt.subplots(nrows=1, ncols=2)\n",
    "political_posts_attack.bias.value_counts().plot(ax=axes[0], kind ='pie', title= 'Sesgo de los posts de ataque')\n",
    "political_posts_support.bias.value_counts().plot(ax=axes[1],kind ='pie', title= 'Sesgo de los posts apoyo')\n",
    "plt.show()"
   ],
   "metadata": {
    "collapsed": false,
    "pycharm": {
     "name": "#%%\n",
     "is_executing": true
    }
   }
  },
  {
   "cell_type": "markdown",
   "source": [
    "Aunque no sea tnata la diferencia, en los posts de apoyo hay un nivel más parejo de la fuente de lso mensajes, mientras que es los de ataque son mayormente de twitter.\n",
    "Con respecto al sesgo, notamos una diferencia muy notable. Los de ataque son mayormente con un sesgo partidario, mientras que los de apoyo son neutrales"
   ],
   "metadata": {
    "collapsed": false,
    "pycharm": {
     "name": "#%% md\n"
    }
   }
  },
  {
   "cell_type": "markdown",
   "source": [
    "Con respecto a las palabras:\n",
    "- Ataque:\n",
    "    - Obama\n",
    "    - Obamacare\n",
    "    - Costs\n",
    "    - Higher\n",
    "    - Stuck\n",
    "    - Spawning\n",
    "    - Venezuela\n",
    "- Apoyo:\n",
    "    - Join\n",
    "    - Please\n",
    "    - Great\n",
    "    - Vote\n",
    "    - Share\n",
    "    - Applaud\n",
    "    - Clinton"
   ],
   "metadata": {
    "collapsed": false,
    "pycharm": {
     "name": "#%% md\n"
    }
   }
  },
  {
   "cell_type": "code",
   "execution_count": null,
   "outputs": [],
   "source": [
    "df.groupby(['message']).agg(\n",
    "    cantidad_de_caracteres =  ('cantidad_caracteres', 'mean'))\n"
   ],
   "metadata": {
    "collapsed": false,
    "pycharm": {
     "name": "#%%\n",
     "is_executing": true
    }
   }
  },
  {
   "cell_type": "code",
   "execution_count": null,
   "outputs": [],
   "source": [
    "df.groupby(['message']).agg(\n",
    "    cantidad_de_hashtags =  ('cantidad_hashtag', 'mean'))\n"
   ],
   "metadata": {
    "collapsed": false,
    "pycharm": {
     "name": "#%%\n",
     "is_executing": true
    }
   }
  },
  {
   "cell_type": "code",
   "execution_count": null,
   "outputs": [],
   "source": [
    "df.groupby(['message', 'cargo']).agg(\n",
    "    cantidad_de_posts =  ('unit_id', 'count')).pivot_table( values='cantidad_de_posts', index=['message'],columns=['cargo']).apply(lambda x: x/x.sum() * 100)"
   ],
   "metadata": {
    "collapsed": false,
    "pycharm": {
     "name": "#%%\n",
     "is_executing": true
    }
   }
  },
  {
   "cell_type": "markdown",
   "source": [
    "Con respecto a estos 3 últimos agrupamientos realizados, parecen no ser influyentes."
   ],
   "metadata": {
    "collapsed": false,
    "pycharm": {
     "name": "#%% md\n"
    }
   }
  },
  {
   "cell_type": "code",
   "execution_count": null,
   "outputs": [],
   "source": [],
   "metadata": {
    "collapsed": false,
    "pycharm": {
     "name": "#%%\n",
     "is_executing": true
    }
   }
  }
 ],
 "metadata": {
  "kernelspec": {
   "display_name": "Python 3 (ipykernel)",
   "language": "python",
   "name": "python3"
  },
  "language_info": {
   "codemirror_mode": {
    "name": "ipython",
    "version": 3
   },
   "file_extension": ".py",
   "mimetype": "text/x-python",
   "name": "python",
   "nbconvert_exporter": "python",
   "pygments_lexer": "ipython3",
   "version": "3.9.13"
  }
 },
 "nbformat": 4,
 "nbformat_minor": 1
}